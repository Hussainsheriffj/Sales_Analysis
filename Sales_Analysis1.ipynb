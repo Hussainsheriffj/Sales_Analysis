{
  "nbformat": 4,
  "nbformat_minor": 0,
  "metadata": {
    "colab": {
      "name": "Sales Analysis1.ipynb",
      "provenance": [],
      "collapsed_sections": []
    },
    "kernelspec": {
      "name": "python3",
      "display_name": "Python 3"
    },
    "language_info": {
      "name": "python"
    }
  },
  "cells": [
    {
      "cell_type": "markdown",
      "metadata": {
        "id": "e2sTLITPYZRs"
      },
      "source": [
        "Importing Libraries "
      ]
    },
    {
      "cell_type": "code",
      "metadata": {
        "id": "tXKUzWrtXcQn"
      },
      "source": [
        "import pandas as pd\n",
        "from google.colab import drive\n",
        "import os"
      ],
      "execution_count": null,
      "outputs": []
    },
    {
      "cell_type": "markdown",
      "metadata": {
        "id": "DKvD6_lgZv72"
      },
      "source": [
        "Mounting google drive"
      ]
    },
    {
      "cell_type": "code",
      "metadata": {
        "colab": {
          "base_uri": "https://localhost:8080/"
        },
        "id": "K5yDLlGGZ0PR",
        "outputId": "0ac5c737-4614-4df2-8e43-2455862c2d6a"
      },
      "source": [
        "drive.mount(\"/content/drive\")"
      ],
      "execution_count": null,
      "outputs": [
        {
          "output_type": "stream",
          "name": "stdout",
          "text": [
            "Mounted at /content/drive\n"
          ]
        }
      ]
    },
    {
      "cell_type": "code",
      "metadata": {
        "id": "kElrPnciYiD7"
      },
      "source": [
        "data = pd.read_csv('drive/MyDrive/Pandas-Data-Science-Tasks-master/SalesAnalysis/Sales_Data/Sales_April_2019.csv')\n"
      ],
      "execution_count": null,
      "outputs": []
    },
    {
      "cell_type": "code",
      "metadata": {
        "colab": {
          "base_uri": "https://localhost:8080/",
          "height": 206
        },
        "id": "4cKutvCsaxLX",
        "outputId": "4478a289-7cf3-4815-a27b-456d717debfc"
      },
      "source": [
        "data.head()"
      ],
      "execution_count": null,
      "outputs": [
        {
          "output_type": "execute_result",
          "data": {
            "text/html": [
              "<div>\n",
              "<style scoped>\n",
              "    .dataframe tbody tr th:only-of-type {\n",
              "        vertical-align: middle;\n",
              "    }\n",
              "\n",
              "    .dataframe tbody tr th {\n",
              "        vertical-align: top;\n",
              "    }\n",
              "\n",
              "    .dataframe thead th {\n",
              "        text-align: right;\n",
              "    }\n",
              "</style>\n",
              "<table border=\"1\" class=\"dataframe\">\n",
              "  <thead>\n",
              "    <tr style=\"text-align: right;\">\n",
              "      <th></th>\n",
              "      <th>Order ID</th>\n",
              "      <th>Product</th>\n",
              "      <th>Quantity Ordered</th>\n",
              "      <th>Price Each</th>\n",
              "      <th>Order Date</th>\n",
              "      <th>Purchase Address</th>\n",
              "    </tr>\n",
              "  </thead>\n",
              "  <tbody>\n",
              "    <tr>\n",
              "      <th>0</th>\n",
              "      <td>176558</td>\n",
              "      <td>USB-C Charging Cable</td>\n",
              "      <td>2</td>\n",
              "      <td>11.95</td>\n",
              "      <td>04/19/19 08:46</td>\n",
              "      <td>917 1st St, Dallas, TX 75001</td>\n",
              "    </tr>\n",
              "    <tr>\n",
              "      <th>1</th>\n",
              "      <td>NaN</td>\n",
              "      <td>NaN</td>\n",
              "      <td>NaN</td>\n",
              "      <td>NaN</td>\n",
              "      <td>NaN</td>\n",
              "      <td>NaN</td>\n",
              "    </tr>\n",
              "    <tr>\n",
              "      <th>2</th>\n",
              "      <td>176559</td>\n",
              "      <td>Bose SoundSport Headphones</td>\n",
              "      <td>1</td>\n",
              "      <td>99.99</td>\n",
              "      <td>04/07/19 22:30</td>\n",
              "      <td>682 Chestnut St, Boston, MA 02215</td>\n",
              "    </tr>\n",
              "    <tr>\n",
              "      <th>3</th>\n",
              "      <td>176560</td>\n",
              "      <td>Google Phone</td>\n",
              "      <td>1</td>\n",
              "      <td>600</td>\n",
              "      <td>04/12/19 14:38</td>\n",
              "      <td>669 Spruce St, Los Angeles, CA 90001</td>\n",
              "    </tr>\n",
              "    <tr>\n",
              "      <th>4</th>\n",
              "      <td>176560</td>\n",
              "      <td>Wired Headphones</td>\n",
              "      <td>1</td>\n",
              "      <td>11.99</td>\n",
              "      <td>04/12/19 14:38</td>\n",
              "      <td>669 Spruce St, Los Angeles, CA 90001</td>\n",
              "    </tr>\n",
              "  </tbody>\n",
              "</table>\n",
              "</div>"
            ],
            "text/plain": [
              "  Order ID  ...                      Purchase Address\n",
              "0   176558  ...          917 1st St, Dallas, TX 75001\n",
              "1      NaN  ...                                   NaN\n",
              "2   176559  ...     682 Chestnut St, Boston, MA 02215\n",
              "3   176560  ...  669 Spruce St, Los Angeles, CA 90001\n",
              "4   176560  ...  669 Spruce St, Los Angeles, CA 90001\n",
              "\n",
              "[5 rows x 6 columns]"
            ]
          },
          "metadata": {},
          "execution_count": 4
        }
      ]
    },
    {
      "cell_type": "markdown",
      "metadata": {
        "id": "3Rrk8MyDYyji"
      },
      "source": [
        "Merging 12 months data:"
      ]
    },
    {
      "cell_type": "code",
      "metadata": {
        "colab": {
          "base_uri": "https://localhost:8080/",
          "height": 206
        },
        "id": "5JkIfypsazmw",
        "outputId": "1733494b-5898-4653-8e7e-90aaf3d733be"
      },
      "source": [
        "all_data = [file for file in os.listdir('drive/MyDrive/Pandas-Data-Science-Tasks-master/SalesAnalysis/Sales_Data')]\n",
        "con_data = pd.DataFrame()\n",
        "\n",
        "for file in all_data:\n",
        "  data = pd.read_csv('drive/MyDrive/Pandas-Data-Science-Tasks-master/SalesAnalysis/Sales_Data/' + file)\n",
        "  con_data = pd.concat([con_data, data])\n",
        "\n",
        "con_data.head()"
      ],
      "execution_count": null,
      "outputs": [
        {
          "output_type": "execute_result",
          "data": {
            "text/html": [
              "<div>\n",
              "<style scoped>\n",
              "    .dataframe tbody tr th:only-of-type {\n",
              "        vertical-align: middle;\n",
              "    }\n",
              "\n",
              "    .dataframe tbody tr th {\n",
              "        vertical-align: top;\n",
              "    }\n",
              "\n",
              "    .dataframe thead th {\n",
              "        text-align: right;\n",
              "    }\n",
              "</style>\n",
              "<table border=\"1\" class=\"dataframe\">\n",
              "  <thead>\n",
              "    <tr style=\"text-align: right;\">\n",
              "      <th></th>\n",
              "      <th>Order ID</th>\n",
              "      <th>Product</th>\n",
              "      <th>Quantity Ordered</th>\n",
              "      <th>Price Each</th>\n",
              "      <th>Order Date</th>\n",
              "      <th>Purchase Address</th>\n",
              "    </tr>\n",
              "  </thead>\n",
              "  <tbody>\n",
              "    <tr>\n",
              "      <th>0</th>\n",
              "      <td>194095</td>\n",
              "      <td>Wired Headphones</td>\n",
              "      <td>1</td>\n",
              "      <td>11.99</td>\n",
              "      <td>05/16/19 17:14</td>\n",
              "      <td>669 2nd St, New York City, NY 10001</td>\n",
              "    </tr>\n",
              "    <tr>\n",
              "      <th>1</th>\n",
              "      <td>194096</td>\n",
              "      <td>AA Batteries (4-pack)</td>\n",
              "      <td>1</td>\n",
              "      <td>3.84</td>\n",
              "      <td>05/19/19 14:43</td>\n",
              "      <td>844 Walnut St, Dallas, TX 75001</td>\n",
              "    </tr>\n",
              "    <tr>\n",
              "      <th>2</th>\n",
              "      <td>194097</td>\n",
              "      <td>27in FHD Monitor</td>\n",
              "      <td>1</td>\n",
              "      <td>149.99</td>\n",
              "      <td>05/24/19 11:36</td>\n",
              "      <td>164 Madison St, New York City, NY 10001</td>\n",
              "    </tr>\n",
              "    <tr>\n",
              "      <th>3</th>\n",
              "      <td>194098</td>\n",
              "      <td>Wired Headphones</td>\n",
              "      <td>1</td>\n",
              "      <td>11.99</td>\n",
              "      <td>05/02/19 20:40</td>\n",
              "      <td>622 Meadow St, Dallas, TX 75001</td>\n",
              "    </tr>\n",
              "    <tr>\n",
              "      <th>4</th>\n",
              "      <td>194099</td>\n",
              "      <td>AAA Batteries (4-pack)</td>\n",
              "      <td>2</td>\n",
              "      <td>2.99</td>\n",
              "      <td>05/11/19 22:55</td>\n",
              "      <td>17 Church St, Seattle, WA 98101</td>\n",
              "    </tr>\n",
              "  </tbody>\n",
              "</table>\n",
              "</div>"
            ],
            "text/plain": [
              "  Order ID  ...                         Purchase Address\n",
              "0   194095  ...      669 2nd St, New York City, NY 10001\n",
              "1   194096  ...          844 Walnut St, Dallas, TX 75001\n",
              "2   194097  ...  164 Madison St, New York City, NY 10001\n",
              "3   194098  ...          622 Meadow St, Dallas, TX 75001\n",
              "4   194099  ...          17 Church St, Seattle, WA 98101\n",
              "\n",
              "[5 rows x 6 columns]"
            ]
          },
          "metadata": {},
          "execution_count": 5
        }
      ]
    },
    {
      "cell_type": "markdown",
      "metadata": {
        "id": "A7BDruXi978M"
      },
      "source": [
        "Saving the concatenated data"
      ]
    },
    {
      "cell_type": "code",
      "metadata": {
        "id": "c6KjkJx-c8Yj"
      },
      "source": [
        "con_data.to_csv(\"con_data.csv\", index=False)"
      ],
      "execution_count": null,
      "outputs": []
    },
    {
      "cell_type": "code",
      "metadata": {
        "colab": {
          "base_uri": "https://localhost:8080/",
          "height": 206
        },
        "id": "szTtn_IQkwv2",
        "outputId": "bb42ab2e-9e22-4421-f2c1-67322673ff1e"
      },
      "source": [
        "con_data.head()"
      ],
      "execution_count": null,
      "outputs": [
        {
          "output_type": "execute_result",
          "data": {
            "text/html": [
              "<div>\n",
              "<style scoped>\n",
              "    .dataframe tbody tr th:only-of-type {\n",
              "        vertical-align: middle;\n",
              "    }\n",
              "\n",
              "    .dataframe tbody tr th {\n",
              "        vertical-align: top;\n",
              "    }\n",
              "\n",
              "    .dataframe thead th {\n",
              "        text-align: right;\n",
              "    }\n",
              "</style>\n",
              "<table border=\"1\" class=\"dataframe\">\n",
              "  <thead>\n",
              "    <tr style=\"text-align: right;\">\n",
              "      <th></th>\n",
              "      <th>Order ID</th>\n",
              "      <th>Product</th>\n",
              "      <th>Quantity Ordered</th>\n",
              "      <th>Price Each</th>\n",
              "      <th>Order Date</th>\n",
              "      <th>Purchase Address</th>\n",
              "    </tr>\n",
              "  </thead>\n",
              "  <tbody>\n",
              "    <tr>\n",
              "      <th>0</th>\n",
              "      <td>194095</td>\n",
              "      <td>Wired Headphones</td>\n",
              "      <td>1</td>\n",
              "      <td>11.99</td>\n",
              "      <td>05/16/19 17:14</td>\n",
              "      <td>669 2nd St, New York City, NY 10001</td>\n",
              "    </tr>\n",
              "    <tr>\n",
              "      <th>1</th>\n",
              "      <td>194096</td>\n",
              "      <td>AA Batteries (4-pack)</td>\n",
              "      <td>1</td>\n",
              "      <td>3.84</td>\n",
              "      <td>05/19/19 14:43</td>\n",
              "      <td>844 Walnut St, Dallas, TX 75001</td>\n",
              "    </tr>\n",
              "    <tr>\n",
              "      <th>2</th>\n",
              "      <td>194097</td>\n",
              "      <td>27in FHD Monitor</td>\n",
              "      <td>1</td>\n",
              "      <td>149.99</td>\n",
              "      <td>05/24/19 11:36</td>\n",
              "      <td>164 Madison St, New York City, NY 10001</td>\n",
              "    </tr>\n",
              "    <tr>\n",
              "      <th>3</th>\n",
              "      <td>194098</td>\n",
              "      <td>Wired Headphones</td>\n",
              "      <td>1</td>\n",
              "      <td>11.99</td>\n",
              "      <td>05/02/19 20:40</td>\n",
              "      <td>622 Meadow St, Dallas, TX 75001</td>\n",
              "    </tr>\n",
              "    <tr>\n",
              "      <th>4</th>\n",
              "      <td>194099</td>\n",
              "      <td>AAA Batteries (4-pack)</td>\n",
              "      <td>2</td>\n",
              "      <td>2.99</td>\n",
              "      <td>05/11/19 22:55</td>\n",
              "      <td>17 Church St, Seattle, WA 98101</td>\n",
              "    </tr>\n",
              "  </tbody>\n",
              "</table>\n",
              "</div>"
            ],
            "text/plain": [
              "  Order ID  ...                         Purchase Address\n",
              "0   194095  ...      669 2nd St, New York City, NY 10001\n",
              "1   194096  ...          844 Walnut St, Dallas, TX 75001\n",
              "2   194097  ...  164 Madison St, New York City, NY 10001\n",
              "3   194098  ...          622 Meadow St, Dallas, TX 75001\n",
              "4   194099  ...          17 Church St, Seattle, WA 98101\n",
              "\n",
              "[5 rows x 6 columns]"
            ]
          },
          "metadata": {},
          "execution_count": 7
        }
      ]
    },
    {
      "cell_type": "markdown",
      "metadata": {
        "id": "ZXBWQCMY-O0Q"
      },
      "source": [
        "Loading the saved file."
      ]
    },
    {
      "cell_type": "code",
      "metadata": {
        "colab": {
          "base_uri": "https://localhost:8080/",
          "height": 206
        },
        "id": "D05S9mWkk6QW",
        "outputId": "13efb57a-70da-4905-f34b-f58c46b5a323"
      },
      "source": [
        "con_data = pd.read_csv('drive/MyDrive/Pandas-Data-Science-Tasks-master/SalesAnalysis/Output/all_data.csv')\n",
        "con_data.head()"
      ],
      "execution_count": null,
      "outputs": [
        {
          "output_type": "execute_result",
          "data": {
            "text/html": [
              "<div>\n",
              "<style scoped>\n",
              "    .dataframe tbody tr th:only-of-type {\n",
              "        vertical-align: middle;\n",
              "    }\n",
              "\n",
              "    .dataframe tbody tr th {\n",
              "        vertical-align: top;\n",
              "    }\n",
              "\n",
              "    .dataframe thead th {\n",
              "        text-align: right;\n",
              "    }\n",
              "</style>\n",
              "<table border=\"1\" class=\"dataframe\">\n",
              "  <thead>\n",
              "    <tr style=\"text-align: right;\">\n",
              "      <th></th>\n",
              "      <th>Order ID</th>\n",
              "      <th>Product</th>\n",
              "      <th>Quantity Ordered</th>\n",
              "      <th>Price Each</th>\n",
              "      <th>Order Date</th>\n",
              "      <th>Purchase Address</th>\n",
              "    </tr>\n",
              "  </thead>\n",
              "  <tbody>\n",
              "    <tr>\n",
              "      <th>0</th>\n",
              "      <td>176558</td>\n",
              "      <td>USB-C Charging Cable</td>\n",
              "      <td>2</td>\n",
              "      <td>11.95</td>\n",
              "      <td>04/19/19 08:46</td>\n",
              "      <td>917 1st St, Dallas, TX 75001</td>\n",
              "    </tr>\n",
              "    <tr>\n",
              "      <th>1</th>\n",
              "      <td>NaN</td>\n",
              "      <td>NaN</td>\n",
              "      <td>NaN</td>\n",
              "      <td>NaN</td>\n",
              "      <td>NaN</td>\n",
              "      <td>NaN</td>\n",
              "    </tr>\n",
              "    <tr>\n",
              "      <th>2</th>\n",
              "      <td>176559</td>\n",
              "      <td>Bose SoundSport Headphones</td>\n",
              "      <td>1</td>\n",
              "      <td>99.99</td>\n",
              "      <td>04/07/19 22:30</td>\n",
              "      <td>682 Chestnut St, Boston, MA 02215</td>\n",
              "    </tr>\n",
              "    <tr>\n",
              "      <th>3</th>\n",
              "      <td>176560</td>\n",
              "      <td>Google Phone</td>\n",
              "      <td>1</td>\n",
              "      <td>600</td>\n",
              "      <td>04/12/19 14:38</td>\n",
              "      <td>669 Spruce St, Los Angeles, CA 90001</td>\n",
              "    </tr>\n",
              "    <tr>\n",
              "      <th>4</th>\n",
              "      <td>176560</td>\n",
              "      <td>Wired Headphones</td>\n",
              "      <td>1</td>\n",
              "      <td>11.99</td>\n",
              "      <td>04/12/19 14:38</td>\n",
              "      <td>669 Spruce St, Los Angeles, CA 90001</td>\n",
              "    </tr>\n",
              "  </tbody>\n",
              "</table>\n",
              "</div>"
            ],
            "text/plain": [
              "  Order ID  ...                      Purchase Address\n",
              "0   176558  ...          917 1st St, Dallas, TX 75001\n",
              "1      NaN  ...                                   NaN\n",
              "2   176559  ...     682 Chestnut St, Boston, MA 02215\n",
              "3   176560  ...  669 Spruce St, Los Angeles, CA 90001\n",
              "4   176560  ...  669 Spruce St, Los Angeles, CA 90001\n",
              "\n",
              "[5 rows x 6 columns]"
            ]
          },
          "metadata": {},
          "execution_count": 8
        }
      ]
    },
    {
      "cell_type": "markdown",
      "metadata": {
        "id": "F3upYf4D9c0D"
      },
      "source": [
        "Adding a new column 'Month' from 'Order Date' column"
      ]
    },
    {
      "cell_type": "code",
      "metadata": {
        "colab": {
          "base_uri": "https://localhost:8080/",
          "height": 206
        },
        "id": "Bd65Ut_59bze",
        "outputId": "ee676e86-408c-4fce-f3e8-51bc255c3ca8"
      },
      "source": [
        "con_data['Month'] = con_data['Order Date'].str[0:2]\n",
        "con_data.head()"
      ],
      "execution_count": null,
      "outputs": [
        {
          "output_type": "execute_result",
          "data": {
            "text/html": [
              "<div>\n",
              "<style scoped>\n",
              "    .dataframe tbody tr th:only-of-type {\n",
              "        vertical-align: middle;\n",
              "    }\n",
              "\n",
              "    .dataframe tbody tr th {\n",
              "        vertical-align: top;\n",
              "    }\n",
              "\n",
              "    .dataframe thead th {\n",
              "        text-align: right;\n",
              "    }\n",
              "</style>\n",
              "<table border=\"1\" class=\"dataframe\">\n",
              "  <thead>\n",
              "    <tr style=\"text-align: right;\">\n",
              "      <th></th>\n",
              "      <th>Order ID</th>\n",
              "      <th>Product</th>\n",
              "      <th>Quantity Ordered</th>\n",
              "      <th>Price Each</th>\n",
              "      <th>Order Date</th>\n",
              "      <th>Purchase Address</th>\n",
              "      <th>Month</th>\n",
              "    </tr>\n",
              "  </thead>\n",
              "  <tbody>\n",
              "    <tr>\n",
              "      <th>0</th>\n",
              "      <td>176558</td>\n",
              "      <td>USB-C Charging Cable</td>\n",
              "      <td>2</td>\n",
              "      <td>11.95</td>\n",
              "      <td>04/19/19 08:46</td>\n",
              "      <td>917 1st St, Dallas, TX 75001</td>\n",
              "      <td>04</td>\n",
              "    </tr>\n",
              "    <tr>\n",
              "      <th>1</th>\n",
              "      <td>NaN</td>\n",
              "      <td>NaN</td>\n",
              "      <td>NaN</td>\n",
              "      <td>NaN</td>\n",
              "      <td>NaN</td>\n",
              "      <td>NaN</td>\n",
              "      <td>NaN</td>\n",
              "    </tr>\n",
              "    <tr>\n",
              "      <th>2</th>\n",
              "      <td>176559</td>\n",
              "      <td>Bose SoundSport Headphones</td>\n",
              "      <td>1</td>\n",
              "      <td>99.99</td>\n",
              "      <td>04/07/19 22:30</td>\n",
              "      <td>682 Chestnut St, Boston, MA 02215</td>\n",
              "      <td>04</td>\n",
              "    </tr>\n",
              "    <tr>\n",
              "      <th>3</th>\n",
              "      <td>176560</td>\n",
              "      <td>Google Phone</td>\n",
              "      <td>1</td>\n",
              "      <td>600</td>\n",
              "      <td>04/12/19 14:38</td>\n",
              "      <td>669 Spruce St, Los Angeles, CA 90001</td>\n",
              "      <td>04</td>\n",
              "    </tr>\n",
              "    <tr>\n",
              "      <th>4</th>\n",
              "      <td>176560</td>\n",
              "      <td>Wired Headphones</td>\n",
              "      <td>1</td>\n",
              "      <td>11.99</td>\n",
              "      <td>04/12/19 14:38</td>\n",
              "      <td>669 Spruce St, Los Angeles, CA 90001</td>\n",
              "      <td>04</td>\n",
              "    </tr>\n",
              "  </tbody>\n",
              "</table>\n",
              "</div>"
            ],
            "text/plain": [
              "  Order ID  ... Month\n",
              "0   176558  ...    04\n",
              "1      NaN  ...   NaN\n",
              "2   176559  ...    04\n",
              "3   176560  ...    04\n",
              "4   176560  ...    04\n",
              "\n",
              "[5 rows x 7 columns]"
            ]
          },
          "metadata": {},
          "execution_count": 9
        }
      ]
    },
    {
      "cell_type": "markdown",
      "metadata": {
        "id": "gtOwXpvRlnbA"
      },
      "source": [
        "Question 1: Which month had maximum sales and how much money earned that month?"
      ]
    },
    {
      "cell_type": "markdown",
      "metadata": {
        "id": "I2ThdznM-fjK"
      },
      "source": [
        "Data cleaning Process: Step 1: Checking for Nan:"
      ]
    },
    {
      "cell_type": "code",
      "metadata": {
        "colab": {
          "base_uri": "https://localhost:8080/",
          "height": 676
        },
        "id": "R8GHF5-q-fID",
        "outputId": "d92b9c21-12ee-4bf8-aaec-754a30cb1995"
      },
      "source": [
        "nan_data = con_data[con_data.isna().any(axis=1)]\n",
        "nan_data.head(20)"
      ],
      "execution_count": null,
      "outputs": [
        {
          "output_type": "execute_result",
          "data": {
            "text/html": [
              "<div>\n",
              "<style scoped>\n",
              "    .dataframe tbody tr th:only-of-type {\n",
              "        vertical-align: middle;\n",
              "    }\n",
              "\n",
              "    .dataframe tbody tr th {\n",
              "        vertical-align: top;\n",
              "    }\n",
              "\n",
              "    .dataframe thead th {\n",
              "        text-align: right;\n",
              "    }\n",
              "</style>\n",
              "<table border=\"1\" class=\"dataframe\">\n",
              "  <thead>\n",
              "    <tr style=\"text-align: right;\">\n",
              "      <th></th>\n",
              "      <th>Order ID</th>\n",
              "      <th>Product</th>\n",
              "      <th>Quantity Ordered</th>\n",
              "      <th>Price Each</th>\n",
              "      <th>Order Date</th>\n",
              "      <th>Purchase Address</th>\n",
              "      <th>Month</th>\n",
              "    </tr>\n",
              "  </thead>\n",
              "  <tbody>\n",
              "    <tr>\n",
              "      <th>1</th>\n",
              "      <td>NaN</td>\n",
              "      <td>NaN</td>\n",
              "      <td>NaN</td>\n",
              "      <td>NaN</td>\n",
              "      <td>NaN</td>\n",
              "      <td>NaN</td>\n",
              "      <td>NaN</td>\n",
              "    </tr>\n",
              "    <tr>\n",
              "      <th>356</th>\n",
              "      <td>NaN</td>\n",
              "      <td>NaN</td>\n",
              "      <td>NaN</td>\n",
              "      <td>NaN</td>\n",
              "      <td>NaN</td>\n",
              "      <td>NaN</td>\n",
              "      <td>NaN</td>\n",
              "    </tr>\n",
              "    <tr>\n",
              "      <th>735</th>\n",
              "      <td>NaN</td>\n",
              "      <td>NaN</td>\n",
              "      <td>NaN</td>\n",
              "      <td>NaN</td>\n",
              "      <td>NaN</td>\n",
              "      <td>NaN</td>\n",
              "      <td>NaN</td>\n",
              "    </tr>\n",
              "    <tr>\n",
              "      <th>1433</th>\n",
              "      <td>NaN</td>\n",
              "      <td>NaN</td>\n",
              "      <td>NaN</td>\n",
              "      <td>NaN</td>\n",
              "      <td>NaN</td>\n",
              "      <td>NaN</td>\n",
              "      <td>NaN</td>\n",
              "    </tr>\n",
              "    <tr>\n",
              "      <th>1553</th>\n",
              "      <td>NaN</td>\n",
              "      <td>NaN</td>\n",
              "      <td>NaN</td>\n",
              "      <td>NaN</td>\n",
              "      <td>NaN</td>\n",
              "      <td>NaN</td>\n",
              "      <td>NaN</td>\n",
              "    </tr>\n",
              "    <tr>\n",
              "      <th>1571</th>\n",
              "      <td>NaN</td>\n",
              "      <td>NaN</td>\n",
              "      <td>NaN</td>\n",
              "      <td>NaN</td>\n",
              "      <td>NaN</td>\n",
              "      <td>NaN</td>\n",
              "      <td>NaN</td>\n",
              "    </tr>\n",
              "    <tr>\n",
              "      <th>1992</th>\n",
              "      <td>NaN</td>\n",
              "      <td>NaN</td>\n",
              "      <td>NaN</td>\n",
              "      <td>NaN</td>\n",
              "      <td>NaN</td>\n",
              "      <td>NaN</td>\n",
              "      <td>NaN</td>\n",
              "    </tr>\n",
              "    <tr>\n",
              "      <th>2265</th>\n",
              "      <td>NaN</td>\n",
              "      <td>NaN</td>\n",
              "      <td>NaN</td>\n",
              "      <td>NaN</td>\n",
              "      <td>NaN</td>\n",
              "      <td>NaN</td>\n",
              "      <td>NaN</td>\n",
              "    </tr>\n",
              "    <tr>\n",
              "      <th>2798</th>\n",
              "      <td>NaN</td>\n",
              "      <td>NaN</td>\n",
              "      <td>NaN</td>\n",
              "      <td>NaN</td>\n",
              "      <td>NaN</td>\n",
              "      <td>NaN</td>\n",
              "      <td>NaN</td>\n",
              "    </tr>\n",
              "    <tr>\n",
              "      <th>3024</th>\n",
              "      <td>NaN</td>\n",
              "      <td>NaN</td>\n",
              "      <td>NaN</td>\n",
              "      <td>NaN</td>\n",
              "      <td>NaN</td>\n",
              "      <td>NaN</td>\n",
              "      <td>NaN</td>\n",
              "    </tr>\n",
              "    <tr>\n",
              "      <th>3098</th>\n",
              "      <td>NaN</td>\n",
              "      <td>NaN</td>\n",
              "      <td>NaN</td>\n",
              "      <td>NaN</td>\n",
              "      <td>NaN</td>\n",
              "      <td>NaN</td>\n",
              "      <td>NaN</td>\n",
              "    </tr>\n",
              "    <tr>\n",
              "      <th>4279</th>\n",
              "      <td>NaN</td>\n",
              "      <td>NaN</td>\n",
              "      <td>NaN</td>\n",
              "      <td>NaN</td>\n",
              "      <td>NaN</td>\n",
              "      <td>NaN</td>\n",
              "      <td>NaN</td>\n",
              "    </tr>\n",
              "    <tr>\n",
              "      <th>4562</th>\n",
              "      <td>NaN</td>\n",
              "      <td>NaN</td>\n",
              "      <td>NaN</td>\n",
              "      <td>NaN</td>\n",
              "      <td>NaN</td>\n",
              "      <td>NaN</td>\n",
              "      <td>NaN</td>\n",
              "    </tr>\n",
              "    <tr>\n",
              "      <th>4958</th>\n",
              "      <td>NaN</td>\n",
              "      <td>NaN</td>\n",
              "      <td>NaN</td>\n",
              "      <td>NaN</td>\n",
              "      <td>NaN</td>\n",
              "      <td>NaN</td>\n",
              "      <td>NaN</td>\n",
              "    </tr>\n",
              "    <tr>\n",
              "      <th>5565</th>\n",
              "      <td>NaN</td>\n",
              "      <td>NaN</td>\n",
              "      <td>NaN</td>\n",
              "      <td>NaN</td>\n",
              "      <td>NaN</td>\n",
              "      <td>NaN</td>\n",
              "      <td>NaN</td>\n",
              "    </tr>\n",
              "    <tr>\n",
              "      <th>6109</th>\n",
              "      <td>NaN</td>\n",
              "      <td>NaN</td>\n",
              "      <td>NaN</td>\n",
              "      <td>NaN</td>\n",
              "      <td>NaN</td>\n",
              "      <td>NaN</td>\n",
              "      <td>NaN</td>\n",
              "    </tr>\n",
              "    <tr>\n",
              "      <th>6119</th>\n",
              "      <td>NaN</td>\n",
              "      <td>NaN</td>\n",
              "      <td>NaN</td>\n",
              "      <td>NaN</td>\n",
              "      <td>NaN</td>\n",
              "      <td>NaN</td>\n",
              "      <td>NaN</td>\n",
              "    </tr>\n",
              "    <tr>\n",
              "      <th>6339</th>\n",
              "      <td>NaN</td>\n",
              "      <td>NaN</td>\n",
              "      <td>NaN</td>\n",
              "      <td>NaN</td>\n",
              "      <td>NaN</td>\n",
              "      <td>NaN</td>\n",
              "      <td>NaN</td>\n",
              "    </tr>\n",
              "    <tr>\n",
              "      <th>6430</th>\n",
              "      <td>NaN</td>\n",
              "      <td>NaN</td>\n",
              "      <td>NaN</td>\n",
              "      <td>NaN</td>\n",
              "      <td>NaN</td>\n",
              "      <td>NaN</td>\n",
              "      <td>NaN</td>\n",
              "    </tr>\n",
              "    <tr>\n",
              "      <th>6752</th>\n",
              "      <td>NaN</td>\n",
              "      <td>NaN</td>\n",
              "      <td>NaN</td>\n",
              "      <td>NaN</td>\n",
              "      <td>NaN</td>\n",
              "      <td>NaN</td>\n",
              "      <td>NaN</td>\n",
              "    </tr>\n",
              "  </tbody>\n",
              "</table>\n",
              "</div>"
            ],
            "text/plain": [
              "     Order ID Product Quantity Ordered  ... Order Date Purchase Address Month\n",
              "1         NaN     NaN              NaN  ...        NaN              NaN   NaN\n",
              "356       NaN     NaN              NaN  ...        NaN              NaN   NaN\n",
              "735       NaN     NaN              NaN  ...        NaN              NaN   NaN\n",
              "1433      NaN     NaN              NaN  ...        NaN              NaN   NaN\n",
              "1553      NaN     NaN              NaN  ...        NaN              NaN   NaN\n",
              "1571      NaN     NaN              NaN  ...        NaN              NaN   NaN\n",
              "1992      NaN     NaN              NaN  ...        NaN              NaN   NaN\n",
              "2265      NaN     NaN              NaN  ...        NaN              NaN   NaN\n",
              "2798      NaN     NaN              NaN  ...        NaN              NaN   NaN\n",
              "3024      NaN     NaN              NaN  ...        NaN              NaN   NaN\n",
              "3098      NaN     NaN              NaN  ...        NaN              NaN   NaN\n",
              "4279      NaN     NaN              NaN  ...        NaN              NaN   NaN\n",
              "4562      NaN     NaN              NaN  ...        NaN              NaN   NaN\n",
              "4958      NaN     NaN              NaN  ...        NaN              NaN   NaN\n",
              "5565      NaN     NaN              NaN  ...        NaN              NaN   NaN\n",
              "6109      NaN     NaN              NaN  ...        NaN              NaN   NaN\n",
              "6119      NaN     NaN              NaN  ...        NaN              NaN   NaN\n",
              "6339      NaN     NaN              NaN  ...        NaN              NaN   NaN\n",
              "6430      NaN     NaN              NaN  ...        NaN              NaN   NaN\n",
              "6752      NaN     NaN              NaN  ...        NaN              NaN   NaN\n",
              "\n",
              "[20 rows x 7 columns]"
            ]
          },
          "metadata": {},
          "execution_count": 10
        }
      ]
    },
    {
      "cell_type": "markdown",
      "metadata": {
        "id": "wLB0SGu0nk6b"
      },
      "source": [
        "Removing all NaN:"
      ]
    },
    {
      "cell_type": "code",
      "metadata": {
        "colab": {
          "base_uri": "https://localhost:8080/",
          "height": 206
        },
        "id": "Qb01op_FnsU5",
        "outputId": "3e3eb099-dccd-4091-dc8b-cb038778968a"
      },
      "source": [
        "con_data = con_data.dropna(how='all')\n",
        "con_data.head()"
      ],
      "execution_count": null,
      "outputs": [
        {
          "output_type": "execute_result",
          "data": {
            "text/html": [
              "<div>\n",
              "<style scoped>\n",
              "    .dataframe tbody tr th:only-of-type {\n",
              "        vertical-align: middle;\n",
              "    }\n",
              "\n",
              "    .dataframe tbody tr th {\n",
              "        vertical-align: top;\n",
              "    }\n",
              "\n",
              "    .dataframe thead th {\n",
              "        text-align: right;\n",
              "    }\n",
              "</style>\n",
              "<table border=\"1\" class=\"dataframe\">\n",
              "  <thead>\n",
              "    <tr style=\"text-align: right;\">\n",
              "      <th></th>\n",
              "      <th>Order ID</th>\n",
              "      <th>Product</th>\n",
              "      <th>Quantity Ordered</th>\n",
              "      <th>Price Each</th>\n",
              "      <th>Order Date</th>\n",
              "      <th>Purchase Address</th>\n",
              "      <th>Month</th>\n",
              "    </tr>\n",
              "  </thead>\n",
              "  <tbody>\n",
              "    <tr>\n",
              "      <th>0</th>\n",
              "      <td>176558</td>\n",
              "      <td>USB-C Charging Cable</td>\n",
              "      <td>2</td>\n",
              "      <td>11.95</td>\n",
              "      <td>04/19/19 08:46</td>\n",
              "      <td>917 1st St, Dallas, TX 75001</td>\n",
              "      <td>04</td>\n",
              "    </tr>\n",
              "    <tr>\n",
              "      <th>2</th>\n",
              "      <td>176559</td>\n",
              "      <td>Bose SoundSport Headphones</td>\n",
              "      <td>1</td>\n",
              "      <td>99.99</td>\n",
              "      <td>04/07/19 22:30</td>\n",
              "      <td>682 Chestnut St, Boston, MA 02215</td>\n",
              "      <td>04</td>\n",
              "    </tr>\n",
              "    <tr>\n",
              "      <th>3</th>\n",
              "      <td>176560</td>\n",
              "      <td>Google Phone</td>\n",
              "      <td>1</td>\n",
              "      <td>600</td>\n",
              "      <td>04/12/19 14:38</td>\n",
              "      <td>669 Spruce St, Los Angeles, CA 90001</td>\n",
              "      <td>04</td>\n",
              "    </tr>\n",
              "    <tr>\n",
              "      <th>4</th>\n",
              "      <td>176560</td>\n",
              "      <td>Wired Headphones</td>\n",
              "      <td>1</td>\n",
              "      <td>11.99</td>\n",
              "      <td>04/12/19 14:38</td>\n",
              "      <td>669 Spruce St, Los Angeles, CA 90001</td>\n",
              "      <td>04</td>\n",
              "    </tr>\n",
              "    <tr>\n",
              "      <th>5</th>\n",
              "      <td>176561</td>\n",
              "      <td>Wired Headphones</td>\n",
              "      <td>1</td>\n",
              "      <td>11.99</td>\n",
              "      <td>04/30/19 09:27</td>\n",
              "      <td>333 8th St, Los Angeles, CA 90001</td>\n",
              "      <td>04</td>\n",
              "    </tr>\n",
              "  </tbody>\n",
              "</table>\n",
              "</div>"
            ],
            "text/plain": [
              "  Order ID  ... Month\n",
              "0   176558  ...    04\n",
              "2   176559  ...    04\n",
              "3   176560  ...    04\n",
              "4   176560  ...    04\n",
              "5   176561  ...    04\n",
              "\n",
              "[5 rows x 7 columns]"
            ]
          },
          "metadata": {},
          "execution_count": 11
        }
      ]
    },
    {
      "cell_type": "markdown",
      "metadata": {
        "id": "4nh09MRT60JV"
      },
      "source": [
        "Step 2: Find 'or' and delete it:"
      ]
    },
    {
      "cell_type": "code",
      "metadata": {
        "colab": {
          "base_uri": "https://localhost:8080/",
          "height": 676
        },
        "id": "CcJ1OyYD7TsF",
        "outputId": "01a14542-482d-4581-c81b-59e54e34c525"
      },
      "source": [
        "con_data = con_data[con_data['Order Date'].str[0:2] != 'Or']\n",
        "con_data.head(20)"
      ],
      "execution_count": null,
      "outputs": [
        {
          "output_type": "execute_result",
          "data": {
            "text/html": [
              "<div>\n",
              "<style scoped>\n",
              "    .dataframe tbody tr th:only-of-type {\n",
              "        vertical-align: middle;\n",
              "    }\n",
              "\n",
              "    .dataframe tbody tr th {\n",
              "        vertical-align: top;\n",
              "    }\n",
              "\n",
              "    .dataframe thead th {\n",
              "        text-align: right;\n",
              "    }\n",
              "</style>\n",
              "<table border=\"1\" class=\"dataframe\">\n",
              "  <thead>\n",
              "    <tr style=\"text-align: right;\">\n",
              "      <th></th>\n",
              "      <th>Order ID</th>\n",
              "      <th>Product</th>\n",
              "      <th>Quantity Ordered</th>\n",
              "      <th>Price Each</th>\n",
              "      <th>Order Date</th>\n",
              "      <th>Purchase Address</th>\n",
              "      <th>Month</th>\n",
              "    </tr>\n",
              "  </thead>\n",
              "  <tbody>\n",
              "    <tr>\n",
              "      <th>0</th>\n",
              "      <td>176558</td>\n",
              "      <td>USB-C Charging Cable</td>\n",
              "      <td>2</td>\n",
              "      <td>11.95</td>\n",
              "      <td>04/19/19 08:46</td>\n",
              "      <td>917 1st St, Dallas, TX 75001</td>\n",
              "      <td>04</td>\n",
              "    </tr>\n",
              "    <tr>\n",
              "      <th>2</th>\n",
              "      <td>176559</td>\n",
              "      <td>Bose SoundSport Headphones</td>\n",
              "      <td>1</td>\n",
              "      <td>99.99</td>\n",
              "      <td>04/07/19 22:30</td>\n",
              "      <td>682 Chestnut St, Boston, MA 02215</td>\n",
              "      <td>04</td>\n",
              "    </tr>\n",
              "    <tr>\n",
              "      <th>3</th>\n",
              "      <td>176560</td>\n",
              "      <td>Google Phone</td>\n",
              "      <td>1</td>\n",
              "      <td>600</td>\n",
              "      <td>04/12/19 14:38</td>\n",
              "      <td>669 Spruce St, Los Angeles, CA 90001</td>\n",
              "      <td>04</td>\n",
              "    </tr>\n",
              "    <tr>\n",
              "      <th>4</th>\n",
              "      <td>176560</td>\n",
              "      <td>Wired Headphones</td>\n",
              "      <td>1</td>\n",
              "      <td>11.99</td>\n",
              "      <td>04/12/19 14:38</td>\n",
              "      <td>669 Spruce St, Los Angeles, CA 90001</td>\n",
              "      <td>04</td>\n",
              "    </tr>\n",
              "    <tr>\n",
              "      <th>5</th>\n",
              "      <td>176561</td>\n",
              "      <td>Wired Headphones</td>\n",
              "      <td>1</td>\n",
              "      <td>11.99</td>\n",
              "      <td>04/30/19 09:27</td>\n",
              "      <td>333 8th St, Los Angeles, CA 90001</td>\n",
              "      <td>04</td>\n",
              "    </tr>\n",
              "    <tr>\n",
              "      <th>6</th>\n",
              "      <td>176562</td>\n",
              "      <td>USB-C Charging Cable</td>\n",
              "      <td>1</td>\n",
              "      <td>11.95</td>\n",
              "      <td>04/29/19 13:03</td>\n",
              "      <td>381 Wilson St, San Francisco, CA 94016</td>\n",
              "      <td>04</td>\n",
              "    </tr>\n",
              "    <tr>\n",
              "      <th>7</th>\n",
              "      <td>176563</td>\n",
              "      <td>Bose SoundSport Headphones</td>\n",
              "      <td>1</td>\n",
              "      <td>99.99</td>\n",
              "      <td>04/02/19 07:46</td>\n",
              "      <td>668 Center St, Seattle, WA 98101</td>\n",
              "      <td>04</td>\n",
              "    </tr>\n",
              "    <tr>\n",
              "      <th>8</th>\n",
              "      <td>176564</td>\n",
              "      <td>USB-C Charging Cable</td>\n",
              "      <td>1</td>\n",
              "      <td>11.95</td>\n",
              "      <td>04/12/19 10:58</td>\n",
              "      <td>790 Ridge St, Atlanta, GA 30301</td>\n",
              "      <td>04</td>\n",
              "    </tr>\n",
              "    <tr>\n",
              "      <th>9</th>\n",
              "      <td>176565</td>\n",
              "      <td>Macbook Pro Laptop</td>\n",
              "      <td>1</td>\n",
              "      <td>1700</td>\n",
              "      <td>04/24/19 10:38</td>\n",
              "      <td>915 Willow St, San Francisco, CA 94016</td>\n",
              "      <td>04</td>\n",
              "    </tr>\n",
              "    <tr>\n",
              "      <th>10</th>\n",
              "      <td>176566</td>\n",
              "      <td>Wired Headphones</td>\n",
              "      <td>1</td>\n",
              "      <td>11.99</td>\n",
              "      <td>04/08/19 14:05</td>\n",
              "      <td>83 7th St, Boston, MA 02215</td>\n",
              "      <td>04</td>\n",
              "    </tr>\n",
              "    <tr>\n",
              "      <th>11</th>\n",
              "      <td>176567</td>\n",
              "      <td>Google Phone</td>\n",
              "      <td>1</td>\n",
              "      <td>600</td>\n",
              "      <td>04/18/19 17:18</td>\n",
              "      <td>444 7th St, Los Angeles, CA 90001</td>\n",
              "      <td>04</td>\n",
              "    </tr>\n",
              "    <tr>\n",
              "      <th>12</th>\n",
              "      <td>176568</td>\n",
              "      <td>Lightning Charging Cable</td>\n",
              "      <td>1</td>\n",
              "      <td>14.95</td>\n",
              "      <td>04/15/19 12:18</td>\n",
              "      <td>438 Elm St, Seattle, WA 98101</td>\n",
              "      <td>04</td>\n",
              "    </tr>\n",
              "    <tr>\n",
              "      <th>13</th>\n",
              "      <td>176569</td>\n",
              "      <td>27in 4K Gaming Monitor</td>\n",
              "      <td>1</td>\n",
              "      <td>389.99</td>\n",
              "      <td>04/16/19 19:23</td>\n",
              "      <td>657 Hill St, Dallas, TX 75001</td>\n",
              "      <td>04</td>\n",
              "    </tr>\n",
              "    <tr>\n",
              "      <th>14</th>\n",
              "      <td>176570</td>\n",
              "      <td>AA Batteries (4-pack)</td>\n",
              "      <td>1</td>\n",
              "      <td>3.84</td>\n",
              "      <td>04/22/19 15:09</td>\n",
              "      <td>186 12th St, Dallas, TX 75001</td>\n",
              "      <td>04</td>\n",
              "    </tr>\n",
              "    <tr>\n",
              "      <th>15</th>\n",
              "      <td>176571</td>\n",
              "      <td>Lightning Charging Cable</td>\n",
              "      <td>1</td>\n",
              "      <td>14.95</td>\n",
              "      <td>04/19/19 14:29</td>\n",
              "      <td>253 Johnson St, Atlanta, GA 30301</td>\n",
              "      <td>04</td>\n",
              "    </tr>\n",
              "    <tr>\n",
              "      <th>16</th>\n",
              "      <td>176572</td>\n",
              "      <td>Apple Airpods Headphones</td>\n",
              "      <td>1</td>\n",
              "      <td>150</td>\n",
              "      <td>04/04/19 20:30</td>\n",
              "      <td>149 Dogwood St, New York City, NY 10001</td>\n",
              "      <td>04</td>\n",
              "    </tr>\n",
              "    <tr>\n",
              "      <th>17</th>\n",
              "      <td>176573</td>\n",
              "      <td>USB-C Charging Cable</td>\n",
              "      <td>1</td>\n",
              "      <td>11.95</td>\n",
              "      <td>04/27/19 18:41</td>\n",
              "      <td>214 Chestnut St, San Francisco, CA 94016</td>\n",
              "      <td>04</td>\n",
              "    </tr>\n",
              "    <tr>\n",
              "      <th>18</th>\n",
              "      <td>176574</td>\n",
              "      <td>Google Phone</td>\n",
              "      <td>1</td>\n",
              "      <td>600</td>\n",
              "      <td>04/03/19 19:42</td>\n",
              "      <td>20 Hill St, Los Angeles, CA 90001</td>\n",
              "      <td>04</td>\n",
              "    </tr>\n",
              "    <tr>\n",
              "      <th>19</th>\n",
              "      <td>176574</td>\n",
              "      <td>USB-C Charging Cable</td>\n",
              "      <td>1</td>\n",
              "      <td>11.95</td>\n",
              "      <td>04/03/19 19:42</td>\n",
              "      <td>20 Hill St, Los Angeles, CA 90001</td>\n",
              "      <td>04</td>\n",
              "    </tr>\n",
              "    <tr>\n",
              "      <th>20</th>\n",
              "      <td>176575</td>\n",
              "      <td>AAA Batteries (4-pack)</td>\n",
              "      <td>1</td>\n",
              "      <td>2.99</td>\n",
              "      <td>04/27/19 00:30</td>\n",
              "      <td>433 Hill St, New York City, NY 10001</td>\n",
              "      <td>04</td>\n",
              "    </tr>\n",
              "  </tbody>\n",
              "</table>\n",
              "</div>"
            ],
            "text/plain": [
              "   Order ID  ... Month\n",
              "0    176558  ...    04\n",
              "2    176559  ...    04\n",
              "3    176560  ...    04\n",
              "4    176560  ...    04\n",
              "5    176561  ...    04\n",
              "6    176562  ...    04\n",
              "7    176563  ...    04\n",
              "8    176564  ...    04\n",
              "9    176565  ...    04\n",
              "10   176566  ...    04\n",
              "11   176567  ...    04\n",
              "12   176568  ...    04\n",
              "13   176569  ...    04\n",
              "14   176570  ...    04\n",
              "15   176571  ...    04\n",
              "16   176572  ...    04\n",
              "17   176573  ...    04\n",
              "18   176574  ...    04\n",
              "19   176574  ...    04\n",
              "20   176575  ...    04\n",
              "\n",
              "[20 rows x 7 columns]"
            ]
          },
          "metadata": {},
          "execution_count": 12
        }
      ]
    },
    {
      "cell_type": "markdown",
      "metadata": {
        "id": "YAdV1RqImJjV"
      },
      "source": [
        "Changing the data type from String to Int"
      ]
    },
    {
      "cell_type": "code",
      "metadata": {
        "colab": {
          "base_uri": "https://localhost:8080/",
          "height": 206
        },
        "id": "BBckSAR_lRYg",
        "outputId": "debf0b3e-74a7-4283-c138-143cd709eb54"
      },
      "source": [
        "con_data['Month'] = con_data['Order Date'].str[0:2]\n",
        "con_data['Month'] = con_data['Month'].astype('int32')\n",
        "con_data.head()"
      ],
      "execution_count": null,
      "outputs": [
        {
          "output_type": "execute_result",
          "data": {
            "text/html": [
              "<div>\n",
              "<style scoped>\n",
              "    .dataframe tbody tr th:only-of-type {\n",
              "        vertical-align: middle;\n",
              "    }\n",
              "\n",
              "    .dataframe tbody tr th {\n",
              "        vertical-align: top;\n",
              "    }\n",
              "\n",
              "    .dataframe thead th {\n",
              "        text-align: right;\n",
              "    }\n",
              "</style>\n",
              "<table border=\"1\" class=\"dataframe\">\n",
              "  <thead>\n",
              "    <tr style=\"text-align: right;\">\n",
              "      <th></th>\n",
              "      <th>Order ID</th>\n",
              "      <th>Product</th>\n",
              "      <th>Quantity Ordered</th>\n",
              "      <th>Price Each</th>\n",
              "      <th>Order Date</th>\n",
              "      <th>Purchase Address</th>\n",
              "      <th>Month</th>\n",
              "    </tr>\n",
              "  </thead>\n",
              "  <tbody>\n",
              "    <tr>\n",
              "      <th>0</th>\n",
              "      <td>176558</td>\n",
              "      <td>USB-C Charging Cable</td>\n",
              "      <td>2</td>\n",
              "      <td>11.95</td>\n",
              "      <td>04/19/19 08:46</td>\n",
              "      <td>917 1st St, Dallas, TX 75001</td>\n",
              "      <td>4</td>\n",
              "    </tr>\n",
              "    <tr>\n",
              "      <th>2</th>\n",
              "      <td>176559</td>\n",
              "      <td>Bose SoundSport Headphones</td>\n",
              "      <td>1</td>\n",
              "      <td>99.99</td>\n",
              "      <td>04/07/19 22:30</td>\n",
              "      <td>682 Chestnut St, Boston, MA 02215</td>\n",
              "      <td>4</td>\n",
              "    </tr>\n",
              "    <tr>\n",
              "      <th>3</th>\n",
              "      <td>176560</td>\n",
              "      <td>Google Phone</td>\n",
              "      <td>1</td>\n",
              "      <td>600</td>\n",
              "      <td>04/12/19 14:38</td>\n",
              "      <td>669 Spruce St, Los Angeles, CA 90001</td>\n",
              "      <td>4</td>\n",
              "    </tr>\n",
              "    <tr>\n",
              "      <th>4</th>\n",
              "      <td>176560</td>\n",
              "      <td>Wired Headphones</td>\n",
              "      <td>1</td>\n",
              "      <td>11.99</td>\n",
              "      <td>04/12/19 14:38</td>\n",
              "      <td>669 Spruce St, Los Angeles, CA 90001</td>\n",
              "      <td>4</td>\n",
              "    </tr>\n",
              "    <tr>\n",
              "      <th>5</th>\n",
              "      <td>176561</td>\n",
              "      <td>Wired Headphones</td>\n",
              "      <td>1</td>\n",
              "      <td>11.99</td>\n",
              "      <td>04/30/19 09:27</td>\n",
              "      <td>333 8th St, Los Angeles, CA 90001</td>\n",
              "      <td>4</td>\n",
              "    </tr>\n",
              "  </tbody>\n",
              "</table>\n",
              "</div>"
            ],
            "text/plain": [
              "  Order ID  ... Month\n",
              "0   176558  ...     4\n",
              "2   176559  ...     4\n",
              "3   176560  ...     4\n",
              "4   176560  ...     4\n",
              "5   176561  ...     4\n",
              "\n",
              "[5 rows x 7 columns]"
            ]
          },
          "metadata": {},
          "execution_count": 13
        }
      ]
    },
    {
      "cell_type": "markdown",
      "metadata": {
        "id": "s3vNo0otGCHN"
      },
      "source": [
        "Calculating and adding sales value:"
      ]
    },
    {
      "cell_type": "markdown",
      "metadata": {
        "id": "kxXBGAnfLq0M"
      },
      "source": [
        "Finding the datatypes of the column"
      ]
    },
    {
      "cell_type": "code",
      "metadata": {
        "colab": {
          "base_uri": "https://localhost:8080/"
        },
        "id": "wixtacE7K2BX",
        "outputId": "ba4b0106-7f43-4cd9-f4c2-ac9c78c01a8d"
      },
      "source": [
        "con_data.dtypes"
      ],
      "execution_count": null,
      "outputs": [
        {
          "output_type": "execute_result",
          "data": {
            "text/plain": [
              "Order ID            object\n",
              "Product             object\n",
              "Quantity Ordered    object\n",
              "Price Each          object\n",
              "Order Date          object\n",
              "Purchase Address    object\n",
              "Month                int32\n",
              "dtype: object"
            ]
          },
          "metadata": {},
          "execution_count": 14
        }
      ]
    },
    {
      "cell_type": "markdown",
      "metadata": {
        "id": "0YAxo5q6JcMS"
      },
      "source": [
        "Converting the 'Quantity Ordered' and 'Price Each' column from String to interger Datatype"
      ]
    },
    {
      "cell_type": "code",
      "metadata": {
        "id": "ftPEL00mL0ad"
      },
      "source": [
        "con_data['Quantity Ordered'] = pd.to_numeric(con_data['Quantity Ordered'])\n",
        "con_data['Price Each'] = pd.to_numeric(con_data['Price Each'])"
      ],
      "execution_count": null,
      "outputs": []
    },
    {
      "cell_type": "markdown",
      "metadata": {
        "id": "c8Ck_ShKVUvv"
      },
      "source": [
        "Creating a new column called 'Sales' by multiplying two columns 'Quantity ordered' and 'Price Each'."
      ]
    },
    {
      "cell_type": "code",
      "metadata": {
        "colab": {
          "base_uri": "https://localhost:8080/",
          "height": 206
        },
        "id": "dmqU4fWZmxpX",
        "outputId": "1015088a-d85b-4ada-b55c-df97eda3b522"
      },
      "source": [
        "con_data['Sales'] = con_data['Quantity Ordered'] * con_data['Price Each']\n",
        "con_data.head()"
      ],
      "execution_count": null,
      "outputs": [
        {
          "output_type": "execute_result",
          "data": {
            "text/html": [
              "<div>\n",
              "<style scoped>\n",
              "    .dataframe tbody tr th:only-of-type {\n",
              "        vertical-align: middle;\n",
              "    }\n",
              "\n",
              "    .dataframe tbody tr th {\n",
              "        vertical-align: top;\n",
              "    }\n",
              "\n",
              "    .dataframe thead th {\n",
              "        text-align: right;\n",
              "    }\n",
              "</style>\n",
              "<table border=\"1\" class=\"dataframe\">\n",
              "  <thead>\n",
              "    <tr style=\"text-align: right;\">\n",
              "      <th></th>\n",
              "      <th>Order ID</th>\n",
              "      <th>Product</th>\n",
              "      <th>Quantity Ordered</th>\n",
              "      <th>Price Each</th>\n",
              "      <th>Order Date</th>\n",
              "      <th>Purchase Address</th>\n",
              "      <th>Month</th>\n",
              "      <th>Sales</th>\n",
              "    </tr>\n",
              "  </thead>\n",
              "  <tbody>\n",
              "    <tr>\n",
              "      <th>0</th>\n",
              "      <td>176558</td>\n",
              "      <td>USB-C Charging Cable</td>\n",
              "      <td>2</td>\n",
              "      <td>11.95</td>\n",
              "      <td>04/19/19 08:46</td>\n",
              "      <td>917 1st St, Dallas, TX 75001</td>\n",
              "      <td>4</td>\n",
              "      <td>23.90</td>\n",
              "    </tr>\n",
              "    <tr>\n",
              "      <th>2</th>\n",
              "      <td>176559</td>\n",
              "      <td>Bose SoundSport Headphones</td>\n",
              "      <td>1</td>\n",
              "      <td>99.99</td>\n",
              "      <td>04/07/19 22:30</td>\n",
              "      <td>682 Chestnut St, Boston, MA 02215</td>\n",
              "      <td>4</td>\n",
              "      <td>99.99</td>\n",
              "    </tr>\n",
              "    <tr>\n",
              "      <th>3</th>\n",
              "      <td>176560</td>\n",
              "      <td>Google Phone</td>\n",
              "      <td>1</td>\n",
              "      <td>600.00</td>\n",
              "      <td>04/12/19 14:38</td>\n",
              "      <td>669 Spruce St, Los Angeles, CA 90001</td>\n",
              "      <td>4</td>\n",
              "      <td>600.00</td>\n",
              "    </tr>\n",
              "    <tr>\n",
              "      <th>4</th>\n",
              "      <td>176560</td>\n",
              "      <td>Wired Headphones</td>\n",
              "      <td>1</td>\n",
              "      <td>11.99</td>\n",
              "      <td>04/12/19 14:38</td>\n",
              "      <td>669 Spruce St, Los Angeles, CA 90001</td>\n",
              "      <td>4</td>\n",
              "      <td>11.99</td>\n",
              "    </tr>\n",
              "    <tr>\n",
              "      <th>5</th>\n",
              "      <td>176561</td>\n",
              "      <td>Wired Headphones</td>\n",
              "      <td>1</td>\n",
              "      <td>11.99</td>\n",
              "      <td>04/30/19 09:27</td>\n",
              "      <td>333 8th St, Los Angeles, CA 90001</td>\n",
              "      <td>4</td>\n",
              "      <td>11.99</td>\n",
              "    </tr>\n",
              "  </tbody>\n",
              "</table>\n",
              "</div>"
            ],
            "text/plain": [
              "  Order ID                     Product  ...  Month   Sales\n",
              "0   176558        USB-C Charging Cable  ...      4   23.90\n",
              "2   176559  Bose SoundSport Headphones  ...      4   99.99\n",
              "3   176560                Google Phone  ...      4  600.00\n",
              "4   176560            Wired Headphones  ...      4   11.99\n",
              "5   176561            Wired Headphones  ...      4   11.99\n",
              "\n",
              "[5 rows x 8 columns]"
            ]
          },
          "metadata": {},
          "execution_count": 16
        }
      ]
    },
    {
      "cell_type": "markdown",
      "metadata": {
        "id": "Qu3nk4H8NuzH"
      },
      "source": [
        "What was the best month of sales? How much was earned that month?"
      ]
    },
    {
      "cell_type": "code",
      "metadata": {
        "id": "07D920sWNcd1"
      },
      "source": [
        "results = con_data.groupby('Month').sum()"
      ],
      "execution_count": null,
      "outputs": []
    },
    {
      "cell_type": "markdown",
      "metadata": {
        "id": "tOAuKqRdVqzq"
      },
      "source": [
        "Creating a bar chart with highest values:"
      ]
    },
    {
      "cell_type": "code",
      "metadata": {
        "colab": {
          "base_uri": "https://localhost:8080/",
          "height": 279
        },
        "id": "lScLZpKzOHMk",
        "outputId": "52fa8032-f822-4bcf-abd6-6d813719ae2c"
      },
      "source": [
        "import matplotlib.pyplot as plt\n",
        "months = range(1, 13)\n",
        "plt.barh(months, results['Sales'])\n",
        "plt.yticks(months)\n",
        "plt.xlabel('Sales in USD ($)')\n",
        "plt.ylabel('Month number')\n",
        "for index, value in enumerate(results['Sales']):\n",
        "    plt.text(value, index, str(value))"
      ],
      "execution_count": null,
      "outputs": [
        {
          "output_type": "display_data",
          "data": {
            "image/png": "[encoded data removed]",
            "text/plain": [
              "<Figure size 432x288 with 1 Axes>"
            ]
          },
          "metadata": {
            "needs_background": "light"
          }
        }
      ]
    },
    {
      "cell_type": "markdown",
      "metadata": {
        "id": "2FRXcQP2VuY8"
      },
      "source": [
        "City with highest number of sales: 1. Adding a city column,"
      ]
    },
    {
      "cell_type": "code",
      "metadata": {
        "colab": {
          "base_uri": "https://localhost:8080/",
          "height": 206
        },
        "id": "ZQOsNlqUQK4M",
        "outputId": "c413b6fb-53b2-4737-8e38-9567028c4e02"
      },
      "source": [
        "con_data.head()"
      ],
      "execution_count": null,
      "outputs": [
        {
          "output_type": "execute_result",
          "data": {
            "text/html": [
              "<div>\n",
              "<style scoped>\n",
              "    .dataframe tbody tr th:only-of-type {\n",
              "        vertical-align: middle;\n",
              "    }\n",
              "\n",
              "    .dataframe tbody tr th {\n",
              "        vertical-align: top;\n",
              "    }\n",
              "\n",
              "    .dataframe thead th {\n",
              "        text-align: right;\n",
              "    }\n",
              "</style>\n",
              "<table border=\"1\" class=\"dataframe\">\n",
              "  <thead>\n",
              "    <tr style=\"text-align: right;\">\n",
              "      <th></th>\n",
              "      <th>Order ID</th>\n",
              "      <th>Product</th>\n",
              "      <th>Quantity Ordered</th>\n",
              "      <th>Price Each</th>\n",
              "      <th>Order Date</th>\n",
              "      <th>Purchase Address</th>\n",
              "      <th>Month</th>\n",
              "      <th>Sales</th>\n",
              "    </tr>\n",
              "  </thead>\n",
              "  <tbody>\n",
              "    <tr>\n",
              "      <th>0</th>\n",
              "      <td>176558</td>\n",
              "      <td>USB-C Charging Cable</td>\n",
              "      <td>2</td>\n",
              "      <td>11.95</td>\n",
              "      <td>04/19/19 08:46</td>\n",
              "      <td>917 1st St, Dallas, TX 75001</td>\n",
              "      <td>4</td>\n",
              "      <td>23.90</td>\n",
              "    </tr>\n",
              "    <tr>\n",
              "      <th>2</th>\n",
              "      <td>176559</td>\n",
              "      <td>Bose SoundSport Headphones</td>\n",
              "      <td>1</td>\n",
              "      <td>99.99</td>\n",
              "      <td>04/07/19 22:30</td>\n",
              "      <td>682 Chestnut St, Boston, MA 02215</td>\n",
              "      <td>4</td>\n",
              "      <td>99.99</td>\n",
              "    </tr>\n",
              "    <tr>\n",
              "      <th>3</th>\n",
              "      <td>176560</td>\n",
              "      <td>Google Phone</td>\n",
              "      <td>1</td>\n",
              "      <td>600.00</td>\n",
              "      <td>04/12/19 14:38</td>\n",
              "      <td>669 Spruce St, Los Angeles, CA 90001</td>\n",
              "      <td>4</td>\n",
              "      <td>600.00</td>\n",
              "    </tr>\n",
              "    <tr>\n",
              "      <th>4</th>\n",
              "      <td>176560</td>\n",
              "      <td>Wired Headphones</td>\n",
              "      <td>1</td>\n",
              "      <td>11.99</td>\n",
              "      <td>04/12/19 14:38</td>\n",
              "      <td>669 Spruce St, Los Angeles, CA 90001</td>\n",
              "      <td>4</td>\n",
              "      <td>11.99</td>\n",
              "    </tr>\n",
              "    <tr>\n",
              "      <th>5</th>\n",
              "      <td>176561</td>\n",
              "      <td>Wired Headphones</td>\n",
              "      <td>1</td>\n",
              "      <td>11.99</td>\n",
              "      <td>04/30/19 09:27</td>\n",
              "      <td>333 8th St, Los Angeles, CA 90001</td>\n",
              "      <td>4</td>\n",
              "      <td>11.99</td>\n",
              "    </tr>\n",
              "  </tbody>\n",
              "</table>\n",
              "</div>"
            ],
            "text/plain": [
              "  Order ID                     Product  ...  Month   Sales\n",
              "0   176558        USB-C Charging Cable  ...      4   23.90\n",
              "2   176559  Bose SoundSport Headphones  ...      4   99.99\n",
              "3   176560                Google Phone  ...      4  600.00\n",
              "4   176560            Wired Headphones  ...      4   11.99\n",
              "5   176561            Wired Headphones  ...      4   11.99\n",
              "\n",
              "[5 rows x 8 columns]"
            ]
          },
          "metadata": {},
          "execution_count": 19
        }
      ]
    },
    {
      "cell_type": "markdown",
      "metadata": {
        "id": "xh08B-CoWT_v"
      },
      "source": [
        "using .apply() method\n"
      ]
    },
    {
      "cell_type": "code",
      "metadata": {
        "colab": {
          "base_uri": "https://localhost:8080/",
          "height": 206
        },
        "id": "211gbWZfWNVB",
        "outputId": "d997cbca-1e47-43ee-8a1c-4ea8f00f9c91"
      },
      "source": [
        "def get_city(address):\n",
        "  return address.split(',')[1]\n",
        "\n",
        "def get_state(address):\n",
        "  return address.split(',')[2].split(' ')[1]\n",
        "\n",
        "con_data['City'] = con_data['Purchase Address'].apply(lambda x: f\"{get_city(x)} ({get_state(x)})\")\n",
        "con_data.head()"
      ],
      "execution_count": null,
      "outputs": [
        {
          "output_type": "execute_result",
          "data": {
            "text/html": [
              "<div>\n",
              "<style scoped>\n",
              "    .dataframe tbody tr th:only-of-type {\n",
              "        vertical-align: middle;\n",
              "    }\n",
              "\n",
              "    .dataframe tbody tr th {\n",
              "        vertical-align: top;\n",
              "    }\n",
              "\n",
              "    .dataframe thead th {\n",
              "        text-align: right;\n",
              "    }\n",
              "</style>\n",
              "<table border=\"1\" class=\"dataframe\">\n",
              "  <thead>\n",
              "    <tr style=\"text-align: right;\">\n",
              "      <th></th>\n",
              "      <th>Order ID</th>\n",
              "      <th>Product</th>\n",
              "      <th>Quantity Ordered</th>\n",
              "      <th>Price Each</th>\n",
              "      <th>Order Date</th>\n",
              "      <th>Purchase Address</th>\n",
              "      <th>Month</th>\n",
              "      <th>Sales</th>\n",
              "      <th>City</th>\n",
              "    </tr>\n",
              "  </thead>\n",
              "  <tbody>\n",
              "    <tr>\n",
              "      <th>0</th>\n",
              "      <td>176558</td>\n",
              "      <td>USB-C Charging Cable</td>\n",
              "      <td>2</td>\n",
              "      <td>11.95</td>\n",
              "      <td>04/19/19 08:46</td>\n",
              "      <td>917 1st St, Dallas, TX 75001</td>\n",
              "      <td>4</td>\n",
              "      <td>23.90</td>\n",
              "      <td>Dallas (TX)</td>\n",
              "    </tr>\n",
              "    <tr>\n",
              "      <th>2</th>\n",
              "      <td>176559</td>\n",
              "      <td>Bose SoundSport Headphones</td>\n",
              "      <td>1</td>\n",
              "      <td>99.99</td>\n",
              "      <td>04/07/19 22:30</td>\n",
              "      <td>682 Chestnut St, Boston, MA 02215</td>\n",
              "      <td>4</td>\n",
              "      <td>99.99</td>\n",
              "      <td>Boston (MA)</td>\n",
              "    </tr>\n",
              "    <tr>\n",
              "      <th>3</th>\n",
              "      <td>176560</td>\n",
              "      <td>Google Phone</td>\n",
              "      <td>1</td>\n",
              "      <td>600.00</td>\n",
              "      <td>04/12/19 14:38</td>\n",
              "      <td>669 Spruce St, Los Angeles, CA 90001</td>\n",
              "      <td>4</td>\n",
              "      <td>600.00</td>\n",
              "      <td>Los Angeles (CA)</td>\n",
              "    </tr>\n",
              "    <tr>\n",
              "      <th>4</th>\n",
              "      <td>176560</td>\n",
              "      <td>Wired Headphones</td>\n",
              "      <td>1</td>\n",
              "      <td>11.99</td>\n",
              "      <td>04/12/19 14:38</td>\n",
              "      <td>669 Spruce St, Los Angeles, CA 90001</td>\n",
              "      <td>4</td>\n",
              "      <td>11.99</td>\n",
              "      <td>Los Angeles (CA)</td>\n",
              "    </tr>\n",
              "    <tr>\n",
              "      <th>5</th>\n",
              "      <td>176561</td>\n",
              "      <td>Wired Headphones</td>\n",
              "      <td>1</td>\n",
              "      <td>11.99</td>\n",
              "      <td>04/30/19 09:27</td>\n",
              "      <td>333 8th St, Los Angeles, CA 90001</td>\n",
              "      <td>4</td>\n",
              "      <td>11.99</td>\n",
              "      <td>Los Angeles (CA)</td>\n",
              "    </tr>\n",
              "  </tbody>\n",
              "</table>\n",
              "</div>"
            ],
            "text/plain": [
              "  Order ID                     Product  ...   Sales               City\n",
              "0   176558        USB-C Charging Cable  ...   23.90        Dallas (TX)\n",
              "2   176559  Bose SoundSport Headphones  ...   99.99        Boston (MA)\n",
              "3   176560                Google Phone  ...  600.00   Los Angeles (CA)\n",
              "4   176560            Wired Headphones  ...   11.99   Los Angeles (CA)\n",
              "5   176561            Wired Headphones  ...   11.99   Los Angeles (CA)\n",
              "\n",
              "[5 rows x 9 columns]"
            ]
          },
          "metadata": {},
          "execution_count": 20
        }
      ]
    },
    {
      "cell_type": "code",
      "metadata": {
        "colab": {
          "base_uri": "https://localhost:8080/",
          "height": 394
        },
        "id": "IWWkCi3dW9VG",
        "outputId": "46558a20-e061-43f4-f579-20b0236e790c"
      },
      "source": [
        " results = con_data.groupby('City').sum()\n",
        " results"
      ],
      "execution_count": null,
      "outputs": [
        {
          "output_type": "execute_result",
          "data": {
            "text/html": [
              "<div>\n",
              "<style scoped>\n",
              "    .dataframe tbody tr th:only-of-type {\n",
              "        vertical-align: middle;\n",
              "    }\n",
              "\n",
              "    .dataframe tbody tr th {\n",
              "        vertical-align: top;\n",
              "    }\n",
              "\n",
              "    .dataframe thead th {\n",
              "        text-align: right;\n",
              "    }\n",
              "</style>\n",
              "<table border=\"1\" class=\"dataframe\">\n",
              "  <thead>\n",
              "    <tr style=\"text-align: right;\">\n",
              "      <th></th>\n",
              "      <th>Quantity Ordered</th>\n",
              "      <th>Price Each</th>\n",
              "      <th>Month</th>\n",
              "      <th>Sales</th>\n",
              "    </tr>\n",
              "    <tr>\n",
              "      <th>City</th>\n",
              "      <th></th>\n",
              "      <th></th>\n",
              "      <th></th>\n",
              "      <th></th>\n",
              "    </tr>\n",
              "  </thead>\n",
              "  <tbody>\n",
              "    <tr>\n",
              "      <th>Atlanta (GA)</th>\n",
              "      <td>16602</td>\n",
              "      <td>2.779908e+06</td>\n",
              "      <td>104794</td>\n",
              "      <td>2.795499e+06</td>\n",
              "    </tr>\n",
              "    <tr>\n",
              "      <th>Austin (TX)</th>\n",
              "      <td>11153</td>\n",
              "      <td>1.809874e+06</td>\n",
              "      <td>69829</td>\n",
              "      <td>1.819582e+06</td>\n",
              "    </tr>\n",
              "    <tr>\n",
              "      <th>Boston (MA)</th>\n",
              "      <td>22528</td>\n",
              "      <td>3.637410e+06</td>\n",
              "      <td>141112</td>\n",
              "      <td>3.661642e+06</td>\n",
              "    </tr>\n",
              "    <tr>\n",
              "      <th>Dallas (TX)</th>\n",
              "      <td>16730</td>\n",
              "      <td>2.752628e+06</td>\n",
              "      <td>104620</td>\n",
              "      <td>2.767975e+06</td>\n",
              "    </tr>\n",
              "    <tr>\n",
              "      <th>Los Angeles (CA)</th>\n",
              "      <td>33289</td>\n",
              "      <td>5.421435e+06</td>\n",
              "      <td>208325</td>\n",
              "      <td>5.452571e+06</td>\n",
              "    </tr>\n",
              "    <tr>\n",
              "      <th>New York City (NY)</th>\n",
              "      <td>27932</td>\n",
              "      <td>4.635371e+06</td>\n",
              "      <td>175741</td>\n",
              "      <td>4.664317e+06</td>\n",
              "    </tr>\n",
              "    <tr>\n",
              "      <th>Portland (ME)</th>\n",
              "      <td>2750</td>\n",
              "      <td>4.471893e+05</td>\n",
              "      <td>17144</td>\n",
              "      <td>4.497583e+05</td>\n",
              "    </tr>\n",
              "    <tr>\n",
              "      <th>Portland (OR)</th>\n",
              "      <td>11303</td>\n",
              "      <td>1.860558e+06</td>\n",
              "      <td>70621</td>\n",
              "      <td>1.870732e+06</td>\n",
              "    </tr>\n",
              "    <tr>\n",
              "      <th>San Francisco (CA)</th>\n",
              "      <td>50239</td>\n",
              "      <td>8.211462e+06</td>\n",
              "      <td>315520</td>\n",
              "      <td>8.262204e+06</td>\n",
              "    </tr>\n",
              "    <tr>\n",
              "      <th>Seattle (WA)</th>\n",
              "      <td>16553</td>\n",
              "      <td>2.733296e+06</td>\n",
              "      <td>104941</td>\n",
              "      <td>2.747755e+06</td>\n",
              "    </tr>\n",
              "  </tbody>\n",
              "</table>\n",
              "</div>"
            ],
            "text/plain": [
              "                     Quantity Ordered    Price Each   Month         Sales\n",
              "City                                                                     \n",
              " Atlanta (GA)                   16602  2.779908e+06  104794  2.795499e+06\n",
              " Austin (TX)                    11153  1.809874e+06   69829  1.819582e+06\n",
              " Boston (MA)                    22528  3.637410e+06  141112  3.661642e+06\n",
              " Dallas (TX)                    16730  2.752628e+06  104620  2.767975e+06\n",
              " Los Angeles (CA)               33289  5.421435e+06  208325  5.452571e+06\n",
              " New York City (NY)             27932  4.635371e+06  175741  4.664317e+06\n",
              " Portland (ME)                   2750  4.471893e+05   17144  4.497583e+05\n",
              " Portland (OR)                  11303  1.860558e+06   70621  1.870732e+06\n",
              " San Francisco (CA)             50239  8.211462e+06  315520  8.262204e+06\n",
              " Seattle (WA)                   16553  2.733296e+06  104941  2.747755e+06"
            ]
          },
          "metadata": {},
          "execution_count": 21
        }
      ]
    },
    {
      "cell_type": "code",
      "metadata": {
        "colab": {
          "base_uri": "https://localhost:8080/",
          "height": 279
        },
        "id": "4dDhuJWNg4JV",
        "outputId": "a791c2c7-628f-4567-86c2-1626375bc72e"
      },
      "source": [
        "import matplotlib.pyplot as plt\n",
        "\n",
        "cities = [city for city, df in con_data.groupby('City')]\n",
        "\n",
        "plt.barh(cities, results['Sales'])\n",
        "plt.yticks(cities)\n",
        "plt.xlabel('Sales in USD ($)')\n",
        "plt.ylabel('City name')\n",
        "for index, value in enumerate(results['Sales']):\n",
        "    plt.text(value, index, str(value))"
      ],
      "execution_count": null,
      "outputs": [
        {
          "output_type": "display_data",
          "data": {
            "image/png": "[encoded data removed]",
            "text/plain": [
              "<Figure size 432x288 with 1 Axes>"
            ]
          },
          "metadata": {
            "needs_background": "light"
          }
        }
      ]
    },
    {
      "cell_type": "markdown",
      "metadata": {
        "id": "HMxR2tT0nPn9"
      },
      "source": [
        "What time should we display advertisements to maximise chances of likelihood of customer's buying product?"
      ]
    },
    {
      "cell_type": "code",
      "metadata": {
        "colab": {
          "base_uri": "https://localhost:8080/",
          "height": 206
        },
        "id": "NZebQ_DGhjGV",
        "outputId": "5e2ecd46-9dee-4b5d-cb15-71d053cfd6a5"
      },
      "source": [
        "con_data.head()"
      ],
      "execution_count": null,
      "outputs": [
        {
          "output_type": "execute_result",
          "data": {
            "text/html": [
              "<div>\n",
              "<style scoped>\n",
              "    .dataframe tbody tr th:only-of-type {\n",
              "        vertical-align: middle;\n",
              "    }\n",
              "\n",
              "    .dataframe tbody tr th {\n",
              "        vertical-align: top;\n",
              "    }\n",
              "\n",
              "    .dataframe thead th {\n",
              "        text-align: right;\n",
              "    }\n",
              "</style>\n",
              "<table border=\"1\" class=\"dataframe\">\n",
              "  <thead>\n",
              "    <tr style=\"text-align: right;\">\n",
              "      <th></th>\n",
              "      <th>Order ID</th>\n",
              "      <th>Product</th>\n",
              "      <th>Quantity Ordered</th>\n",
              "      <th>Price Each</th>\n",
              "      <th>Order Date</th>\n",
              "      <th>Purchase Address</th>\n",
              "      <th>Month</th>\n",
              "      <th>Sales</th>\n",
              "      <th>City</th>\n",
              "    </tr>\n",
              "  </thead>\n",
              "  <tbody>\n",
              "    <tr>\n",
              "      <th>0</th>\n",
              "      <td>176558</td>\n",
              "      <td>USB-C Charging Cable</td>\n",
              "      <td>2</td>\n",
              "      <td>11.95</td>\n",
              "      <td>04/19/19 08:46</td>\n",
              "      <td>917 1st St, Dallas, TX 75001</td>\n",
              "      <td>4</td>\n",
              "      <td>23.90</td>\n",
              "      <td>Dallas (TX)</td>\n",
              "    </tr>\n",
              "    <tr>\n",
              "      <th>2</th>\n",
              "      <td>176559</td>\n",
              "      <td>Bose SoundSport Headphones</td>\n",
              "      <td>1</td>\n",
              "      <td>99.99</td>\n",
              "      <td>04/07/19 22:30</td>\n",
              "      <td>682 Chestnut St, Boston, MA 02215</td>\n",
              "      <td>4</td>\n",
              "      <td>99.99</td>\n",
              "      <td>Boston (MA)</td>\n",
              "    </tr>\n",
              "    <tr>\n",
              "      <th>3</th>\n",
              "      <td>176560</td>\n",
              "      <td>Google Phone</td>\n",
              "      <td>1</td>\n",
              "      <td>600.00</td>\n",
              "      <td>04/12/19 14:38</td>\n",
              "      <td>669 Spruce St, Los Angeles, CA 90001</td>\n",
              "      <td>4</td>\n",
              "      <td>600.00</td>\n",
              "      <td>Los Angeles (CA)</td>\n",
              "    </tr>\n",
              "    <tr>\n",
              "      <th>4</th>\n",
              "      <td>176560</td>\n",
              "      <td>Wired Headphones</td>\n",
              "      <td>1</td>\n",
              "      <td>11.99</td>\n",
              "      <td>04/12/19 14:38</td>\n",
              "      <td>669 Spruce St, Los Angeles, CA 90001</td>\n",
              "      <td>4</td>\n",
              "      <td>11.99</td>\n",
              "      <td>Los Angeles (CA)</td>\n",
              "    </tr>\n",
              "    <tr>\n",
              "      <th>5</th>\n",
              "      <td>176561</td>\n",
              "      <td>Wired Headphones</td>\n",
              "      <td>1</td>\n",
              "      <td>11.99</td>\n",
              "      <td>04/30/19 09:27</td>\n",
              "      <td>333 8th St, Los Angeles, CA 90001</td>\n",
              "      <td>4</td>\n",
              "      <td>11.99</td>\n",
              "      <td>Los Angeles (CA)</td>\n",
              "    </tr>\n",
              "  </tbody>\n",
              "</table>\n",
              "</div>"
            ],
            "text/plain": [
              "  Order ID                     Product  ...   Sales               City\n",
              "0   176558        USB-C Charging Cable  ...   23.90        Dallas (TX)\n",
              "2   176559  Bose SoundSport Headphones  ...   99.99        Boston (MA)\n",
              "3   176560                Google Phone  ...  600.00   Los Angeles (CA)\n",
              "4   176560            Wired Headphones  ...   11.99   Los Angeles (CA)\n",
              "5   176561            Wired Headphones  ...   11.99   Los Angeles (CA)\n",
              "\n",
              "[5 rows x 9 columns]"
            ]
          },
          "metadata": {},
          "execution_count": 23
        }
      ]
    },
    {
      "cell_type": "code",
      "metadata": {
        "id": "bsB_nVFWngEk"
      },
      "source": [
        "con_data['Order Date'] = pd.to_datetime(con_data['Order Date'])"
      ],
      "execution_count": null,
      "outputs": []
    },
    {
      "cell_type": "code",
      "metadata": {
        "colab": {
          "base_uri": "https://localhost:8080/",
          "height": 206
        },
        "id": "-iskTXx7oICE",
        "outputId": "3bc6c002-3380-4baf-8579-851f7444e300"
      },
      "source": [
        "con_data.head()"
      ],
      "execution_count": null,
      "outputs": [
        {
          "output_type": "execute_result",
          "data": {
            "text/html": [
              "<div>\n",
              "<style scoped>\n",
              "    .dataframe tbody tr th:only-of-type {\n",
              "        vertical-align: middle;\n",
              "    }\n",
              "\n",
              "    .dataframe tbody tr th {\n",
              "        vertical-align: top;\n",
              "    }\n",
              "\n",
              "    .dataframe thead th {\n",
              "        text-align: right;\n",
              "    }\n",
              "</style>\n",
              "<table border=\"1\" class=\"dataframe\">\n",
              "  <thead>\n",
              "    <tr style=\"text-align: right;\">\n",
              "      <th></th>\n",
              "      <th>Order ID</th>\n",
              "      <th>Product</th>\n",
              "      <th>Quantity Ordered</th>\n",
              "      <th>Price Each</th>\n",
              "      <th>Order Date</th>\n",
              "      <th>Purchase Address</th>\n",
              "      <th>Month</th>\n",
              "      <th>Sales</th>\n",
              "      <th>City</th>\n",
              "    </tr>\n",
              "  </thead>\n",
              "  <tbody>\n",
              "    <tr>\n",
              "      <th>0</th>\n",
              "      <td>176558</td>\n",
              "      <td>USB-C Charging Cable</td>\n",
              "      <td>2</td>\n",
              "      <td>11.95</td>\n",
              "      <td>2019-04-19 08:46:00</td>\n",
              "      <td>917 1st St, Dallas, TX 75001</td>\n",
              "      <td>4</td>\n",
              "      <td>23.90</td>\n",
              "      <td>Dallas (TX)</td>\n",
              "    </tr>\n",
              "    <tr>\n",
              "      <th>2</th>\n",
              "      <td>176559</td>\n",
              "      <td>Bose SoundSport Headphones</td>\n",
              "      <td>1</td>\n",
              "      <td>99.99</td>\n",
              "      <td>2019-04-07 22:30:00</td>\n",
              "      <td>682 Chestnut St, Boston, MA 02215</td>\n",
              "      <td>4</td>\n",
              "      <td>99.99</td>\n",
              "      <td>Boston (MA)</td>\n",
              "    </tr>\n",
              "    <tr>\n",
              "      <th>3</th>\n",
              "      <td>176560</td>\n",
              "      <td>Google Phone</td>\n",
              "      <td>1</td>\n",
              "      <td>600.00</td>\n",
              "      <td>2019-04-12 14:38:00</td>\n",
              "      <td>669 Spruce St, Los Angeles, CA 90001</td>\n",
              "      <td>4</td>\n",
              "      <td>600.00</td>\n",
              "      <td>Los Angeles (CA)</td>\n",
              "    </tr>\n",
              "    <tr>\n",
              "      <th>4</th>\n",
              "      <td>176560</td>\n",
              "      <td>Wired Headphones</td>\n",
              "      <td>1</td>\n",
              "      <td>11.99</td>\n",
              "      <td>2019-04-12 14:38:00</td>\n",
              "      <td>669 Spruce St, Los Angeles, CA 90001</td>\n",
              "      <td>4</td>\n",
              "      <td>11.99</td>\n",
              "      <td>Los Angeles (CA)</td>\n",
              "    </tr>\n",
              "    <tr>\n",
              "      <th>5</th>\n",
              "      <td>176561</td>\n",
              "      <td>Wired Headphones</td>\n",
              "      <td>1</td>\n",
              "      <td>11.99</td>\n",
              "      <td>2019-04-30 09:27:00</td>\n",
              "      <td>333 8th St, Los Angeles, CA 90001</td>\n",
              "      <td>4</td>\n",
              "      <td>11.99</td>\n",
              "      <td>Los Angeles (CA)</td>\n",
              "    </tr>\n",
              "  </tbody>\n",
              "</table>\n",
              "</div>"
            ],
            "text/plain": [
              "  Order ID                     Product  ...   Sales               City\n",
              "0   176558        USB-C Charging Cable  ...   23.90        Dallas (TX)\n",
              "2   176559  Bose SoundSport Headphones  ...   99.99        Boston (MA)\n",
              "3   176560                Google Phone  ...  600.00   Los Angeles (CA)\n",
              "4   176560            Wired Headphones  ...   11.99   Los Angeles (CA)\n",
              "5   176561            Wired Headphones  ...   11.99   Los Angeles (CA)\n",
              "\n",
              "[5 rows x 9 columns]"
            ]
          },
          "metadata": {},
          "execution_count": 25
        }
      ]
    },
    {
      "cell_type": "markdown",
      "metadata": {
        "id": "uvrrZbvFWBsd"
      },
      "source": [
        "Creating two new folders 'Hour' and 'Minute' from 'Oder Date' column:"
      ]
    },
    {
      "cell_type": "code",
      "metadata": {
        "colab": {
          "base_uri": "https://localhost:8080/",
          "height": 310
        },
        "id": "mRJqRcF5oPGc",
        "outputId": "14954312-60ee-4a3e-e743-ed2ddf4bdd15"
      },
      "source": [
        "con_data['Hour'] = con_data['Order Date'].dt.hour\n",
        "con_data['Minute'] = con_data['Order Date'].dt.minute\n",
        "con_data.head()"
      ],
      "execution_count": null,
      "outputs": [
        {
          "output_type": "execute_result",
          "data": {
            "text/html": [
              "<div>\n",
              "<style scoped>\n",
              "    .dataframe tbody tr th:only-of-type {\n",
              "        vertical-align: middle;\n",
              "    }\n",
              "\n",
              "    .dataframe tbody tr th {\n",
              "        vertical-align: top;\n",
              "    }\n",
              "\n",
              "    .dataframe thead th {\n",
              "        text-align: right;\n",
              "    }\n",
              "</style>\n",
              "<table border=\"1\" class=\"dataframe\">\n",
              "  <thead>\n",
              "    <tr style=\"text-align: right;\">\n",
              "      <th></th>\n",
              "      <th>Order ID</th>\n",
              "      <th>Product</th>\n",
              "      <th>Quantity Ordered</th>\n",
              "      <th>Price Each</th>\n",
              "      <th>Order Date</th>\n",
              "      <th>Purchase Address</th>\n",
              "      <th>Month</th>\n",
              "      <th>Sales</th>\n",
              "      <th>City</th>\n",
              "      <th>Hour</th>\n",
              "      <th>Minute</th>\n",
              "    </tr>\n",
              "  </thead>\n",
              "  <tbody>\n",
              "    <tr>\n",
              "      <th>0</th>\n",
              "      <td>176558</td>\n",
              "      <td>USB-C Charging Cable</td>\n",
              "      <td>2</td>\n",
              "      <td>11.95</td>\n",
              "      <td>2019-04-19 08:46:00</td>\n",
              "      <td>917 1st St, Dallas, TX 75001</td>\n",
              "      <td>4</td>\n",
              "      <td>23.90</td>\n",
              "      <td>Dallas (TX)</td>\n",
              "      <td>8</td>\n",
              "      <td>46</td>\n",
              "    </tr>\n",
              "    <tr>\n",
              "      <th>2</th>\n",
              "      <td>176559</td>\n",
              "      <td>Bose SoundSport Headphones</td>\n",
              "      <td>1</td>\n",
              "      <td>99.99</td>\n",
              "      <td>2019-04-07 22:30:00</td>\n",
              "      <td>682 Chestnut St, Boston, MA 02215</td>\n",
              "      <td>4</td>\n",
              "      <td>99.99</td>\n",
              "      <td>Boston (MA)</td>\n",
              "      <td>22</td>\n",
              "      <td>30</td>\n",
              "    </tr>\n",
              "    <tr>\n",
              "      <th>3</th>\n",
              "      <td>176560</td>\n",
              "      <td>Google Phone</td>\n",
              "      <td>1</td>\n",
              "      <td>600.00</td>\n",
              "      <td>2019-04-12 14:38:00</td>\n",
              "      <td>669 Spruce St, Los Angeles, CA 90001</td>\n",
              "      <td>4</td>\n",
              "      <td>600.00</td>\n",
              "      <td>Los Angeles (CA)</td>\n",
              "      <td>14</td>\n",
              "      <td>38</td>\n",
              "    </tr>\n",
              "    <tr>\n",
              "      <th>4</th>\n",
              "      <td>176560</td>\n",
              "      <td>Wired Headphones</td>\n",
              "      <td>1</td>\n",
              "      <td>11.99</td>\n",
              "      <td>2019-04-12 14:38:00</td>\n",
              "      <td>669 Spruce St, Los Angeles, CA 90001</td>\n",
              "      <td>4</td>\n",
              "      <td>11.99</td>\n",
              "      <td>Los Angeles (CA)</td>\n",
              "      <td>14</td>\n",
              "      <td>38</td>\n",
              "    </tr>\n",
              "    <tr>\n",
              "      <th>5</th>\n",
              "      <td>176561</td>\n",
              "      <td>Wired Headphones</td>\n",
              "      <td>1</td>\n",
              "      <td>11.99</td>\n",
              "      <td>2019-04-30 09:27:00</td>\n",
              "      <td>333 8th St, Los Angeles, CA 90001</td>\n",
              "      <td>4</td>\n",
              "      <td>11.99</td>\n",
              "      <td>Los Angeles (CA)</td>\n",
              "      <td>9</td>\n",
              "      <td>27</td>\n",
              "    </tr>\n",
              "  </tbody>\n",
              "</table>\n",
              "</div>"
            ],
            "text/plain": [
              "  Order ID                     Product  ...  Hour  Minute\n",
              "0   176558        USB-C Charging Cable  ...     8      46\n",
              "2   176559  Bose SoundSport Headphones  ...    22      30\n",
              "3   176560                Google Phone  ...    14      38\n",
              "4   176560            Wired Headphones  ...    14      38\n",
              "5   176561            Wired Headphones  ...     9      27\n",
              "\n",
              "[5 rows x 11 columns]"
            ]
          },
          "metadata": {},
          "execution_count": 26
        }
      ]
    },
    {
      "cell_type": "code",
      "metadata": {
        "colab": {
          "base_uri": "https://localhost:8080/",
          "height": 279
        },
        "id": "HqXnR7Lnotc4",
        "outputId": "0900ca65-eb68-440e-dcc4-a656069f7673"
      },
      "source": [
        "hours = [hour for hour, df in con_data.groupby('Hour')]\n",
        "plt.plot(hours, con_data.groupby(['Hour']).count())\n",
        "plt.xticks(hours)\n",
        "plt.xlabel('Hour')\n",
        "plt.ylabel('Number of orders')\n",
        "plt.grid()\n",
        "plt.show()\n"
      ],
      "execution_count": null,
      "outputs": [
        {
          "output_type": "display_data",
          "data": {
            "image/png": "[encoded data removed]",
            "text/plain": [
              "<Figure size 432x288 with 1 Axes>"
            ]
          },
          "metadata": {
            "needs_background": "light"
          }
        }
      ]
    },
    {
      "cell_type": "markdown",
      "metadata": {
        "id": "3Afc5F2ZF9SS"
      },
      "source": [
        "What products are most often sold together?"
      ]
    },
    {
      "cell_type": "markdown",
      "metadata": {
        "id": "UsBu_tx-WVgH"
      },
      "source": [
        "Finding products with same 'Order ID':"
      ]
    },
    {
      "cell_type": "code",
      "metadata": {
        "id": "p5kzbsTiGGn-",
        "colab": {
          "base_uri": "https://localhost:8080/",
          "height": 310
        },
        "outputId": "7a1de50f-9383-4213-fdf0-f49f7ad85fea"
      },
      "source": [
        "dup = con_data[con_data['Order ID'].duplicated(keep=False)]\n",
        "dup.head()"
      ],
      "execution_count": null,
      "outputs": [
        {
          "output_type": "execute_result",
          "data": {
            "text/html": [
              "<div>\n",
              "<style scoped>\n",
              "    .dataframe tbody tr th:only-of-type {\n",
              "        vertical-align: middle;\n",
              "    }\n",
              "\n",
              "    .dataframe tbody tr th {\n",
              "        vertical-align: top;\n",
              "    }\n",
              "\n",
              "    .dataframe thead th {\n",
              "        text-align: right;\n",
              "    }\n",
              "</style>\n",
              "<table border=\"1\" class=\"dataframe\">\n",
              "  <thead>\n",
              "    <tr style=\"text-align: right;\">\n",
              "      <th></th>\n",
              "      <th>Order ID</th>\n",
              "      <th>Product</th>\n",
              "      <th>Quantity Ordered</th>\n",
              "      <th>Price Each</th>\n",
              "      <th>Order Date</th>\n",
              "      <th>Purchase Address</th>\n",
              "      <th>Month</th>\n",
              "      <th>Sales</th>\n",
              "      <th>City</th>\n",
              "      <th>Hour</th>\n",
              "      <th>Minute</th>\n",
              "    </tr>\n",
              "  </thead>\n",
              "  <tbody>\n",
              "    <tr>\n",
              "      <th>3</th>\n",
              "      <td>176560</td>\n",
              "      <td>Google Phone</td>\n",
              "      <td>1</td>\n",
              "      <td>600.00</td>\n",
              "      <td>2019-04-12 14:38:00</td>\n",
              "      <td>669 Spruce St, Los Angeles, CA 90001</td>\n",
              "      <td>4</td>\n",
              "      <td>600.00</td>\n",
              "      <td>Los Angeles (CA)</td>\n",
              "      <td>14</td>\n",
              "      <td>38</td>\n",
              "    </tr>\n",
              "    <tr>\n",
              "      <th>4</th>\n",
              "      <td>176560</td>\n",
              "      <td>Wired Headphones</td>\n",
              "      <td>1</td>\n",
              "      <td>11.99</td>\n",
              "      <td>2019-04-12 14:38:00</td>\n",
              "      <td>669 Spruce St, Los Angeles, CA 90001</td>\n",
              "      <td>4</td>\n",
              "      <td>11.99</td>\n",
              "      <td>Los Angeles (CA)</td>\n",
              "      <td>14</td>\n",
              "      <td>38</td>\n",
              "    </tr>\n",
              "    <tr>\n",
              "      <th>18</th>\n",
              "      <td>176574</td>\n",
              "      <td>Google Phone</td>\n",
              "      <td>1</td>\n",
              "      <td>600.00</td>\n",
              "      <td>2019-04-03 19:42:00</td>\n",
              "      <td>20 Hill St, Los Angeles, CA 90001</td>\n",
              "      <td>4</td>\n",
              "      <td>600.00</td>\n",
              "      <td>Los Angeles (CA)</td>\n",
              "      <td>19</td>\n",
              "      <td>42</td>\n",
              "    </tr>\n",
              "    <tr>\n",
              "      <th>19</th>\n",
              "      <td>176574</td>\n",
              "      <td>USB-C Charging Cable</td>\n",
              "      <td>1</td>\n",
              "      <td>11.95</td>\n",
              "      <td>2019-04-03 19:42:00</td>\n",
              "      <td>20 Hill St, Los Angeles, CA 90001</td>\n",
              "      <td>4</td>\n",
              "      <td>11.95</td>\n",
              "      <td>Los Angeles (CA)</td>\n",
              "      <td>19</td>\n",
              "      <td>42</td>\n",
              "    </tr>\n",
              "    <tr>\n",
              "      <th>30</th>\n",
              "      <td>176585</td>\n",
              "      <td>Bose SoundSport Headphones</td>\n",
              "      <td>1</td>\n",
              "      <td>99.99</td>\n",
              "      <td>2019-04-07 11:31:00</td>\n",
              "      <td>823 Highland St, Boston, MA 02215</td>\n",
              "      <td>4</td>\n",
              "      <td>99.99</td>\n",
              "      <td>Boston (MA)</td>\n",
              "      <td>11</td>\n",
              "      <td>31</td>\n",
              "    </tr>\n",
              "  </tbody>\n",
              "</table>\n",
              "</div>"
            ],
            "text/plain": [
              "   Order ID                     Product  ...  Hour  Minute\n",
              "3    176560                Google Phone  ...    14      38\n",
              "4    176560            Wired Headphones  ...    14      38\n",
              "18   176574                Google Phone  ...    19      42\n",
              "19   176574        USB-C Charging Cable  ...    19      42\n",
              "30   176585  Bose SoundSport Headphones  ...    11      31\n",
              "\n",
              "[5 rows x 11 columns]"
            ]
          },
          "metadata": {},
          "execution_count": 31
        }
      ]
    },
    {
      "cell_type": "markdown",
      "metadata": {
        "id": "0wG_TBzzLcW8"
      },
      "source": [
        "Grouping the products with same order ID under same line"
      ]
    },
    {
      "cell_type": "code",
      "metadata": {
        "colab": {
          "base_uri": "https://localhost:8080/",
          "height": 418
        },
        "id": "ma07y_XKK6gr",
        "outputId": "08abe934-c2c0-4bd9-c950-d5322254426a"
      },
      "source": [
        "dup['Grouped'] = df.groupby('Order ID')['Product'].transform(lambda x: ','.join(x))\n",
        "dup.head()"
      ],
      "execution_count": null,
      "outputs": [
        {
          "output_type": "stream",
          "name": "stderr",
          "text": [
            "/usr/local/lib/python3.7/dist-packages/ipykernel_launcher.py:1: SettingWithCopyWarning: \n",
            "A value is trying to be set on a copy of a slice from a DataFrame.\n",
            "Try using .loc[row_indexer,col_indexer] = value instead\n",
            "\n",
            "See the caveats in the documentation: https://pandas.pydata.org/pandas-docs/stable/user_guide/indexing.html#returning-a-view-versus-a-copy\n",
            "  \"\"\"Entry point for launching an IPython kernel.\n"
          ]
        },
        {
          "output_type": "execute_result",
          "data": {
            "text/html": [
              "<div>\n",
              "<style scoped>\n",
              "    .dataframe tbody tr th:only-of-type {\n",
              "        vertical-align: middle;\n",
              "    }\n",
              "\n",
              "    .dataframe tbody tr th {\n",
              "        vertical-align: top;\n",
              "    }\n",
              "\n",
              "    .dataframe thead th {\n",
              "        text-align: right;\n",
              "    }\n",
              "</style>\n",
              "<table border=\"1\" class=\"dataframe\">\n",
              "  <thead>\n",
              "    <tr style=\"text-align: right;\">\n",
              "      <th></th>\n",
              "      <th>Order ID</th>\n",
              "      <th>Product</th>\n",
              "      <th>Quantity Ordered</th>\n",
              "      <th>Price Each</th>\n",
              "      <th>Order Date</th>\n",
              "      <th>Purchase Address</th>\n",
              "      <th>Month</th>\n",
              "      <th>Sales</th>\n",
              "      <th>City</th>\n",
              "      <th>Hour</th>\n",
              "      <th>Minute</th>\n",
              "      <th>Grouped</th>\n",
              "    </tr>\n",
              "  </thead>\n",
              "  <tbody>\n",
              "    <tr>\n",
              "      <th>3</th>\n",
              "      <td>176560</td>\n",
              "      <td>Google Phone</td>\n",
              "      <td>1</td>\n",
              "      <td>600.00</td>\n",
              "      <td>2019-04-12 14:38:00</td>\n",
              "      <td>669 Spruce St, Los Angeles, CA 90001</td>\n",
              "      <td>4</td>\n",
              "      <td>600.00</td>\n",
              "      <td>Los Angeles (CA)</td>\n",
              "      <td>14</td>\n",
              "      <td>38</td>\n",
              "      <td>Google Phone,Wired Headphones</td>\n",
              "    </tr>\n",
              "    <tr>\n",
              "      <th>4</th>\n",
              "      <td>176560</td>\n",
              "      <td>Wired Headphones</td>\n",
              "      <td>1</td>\n",
              "      <td>11.99</td>\n",
              "      <td>2019-04-12 14:38:00</td>\n",
              "      <td>669 Spruce St, Los Angeles, CA 90001</td>\n",
              "      <td>4</td>\n",
              "      <td>11.99</td>\n",
              "      <td>Los Angeles (CA)</td>\n",
              "      <td>14</td>\n",
              "      <td>38</td>\n",
              "      <td>Google Phone,Wired Headphones</td>\n",
              "    </tr>\n",
              "    <tr>\n",
              "      <th>18</th>\n",
              "      <td>176574</td>\n",
              "      <td>Google Phone</td>\n",
              "      <td>1</td>\n",
              "      <td>600.00</td>\n",
              "      <td>2019-04-03 19:42:00</td>\n",
              "      <td>20 Hill St, Los Angeles, CA 90001</td>\n",
              "      <td>4</td>\n",
              "      <td>600.00</td>\n",
              "      <td>Los Angeles (CA)</td>\n",
              "      <td>19</td>\n",
              "      <td>42</td>\n",
              "      <td>Google Phone,USB-C Charging Cable</td>\n",
              "    </tr>\n",
              "    <tr>\n",
              "      <th>19</th>\n",
              "      <td>176574</td>\n",
              "      <td>USB-C Charging Cable</td>\n",
              "      <td>1</td>\n",
              "      <td>11.95</td>\n",
              "      <td>2019-04-03 19:42:00</td>\n",
              "      <td>20 Hill St, Los Angeles, CA 90001</td>\n",
              "      <td>4</td>\n",
              "      <td>11.95</td>\n",
              "      <td>Los Angeles (CA)</td>\n",
              "      <td>19</td>\n",
              "      <td>42</td>\n",
              "      <td>Google Phone,USB-C Charging Cable</td>\n",
              "    </tr>\n",
              "    <tr>\n",
              "      <th>30</th>\n",
              "      <td>176585</td>\n",
              "      <td>Bose SoundSport Headphones</td>\n",
              "      <td>1</td>\n",
              "      <td>99.99</td>\n",
              "      <td>2019-04-07 11:31:00</td>\n",
              "      <td>823 Highland St, Boston, MA 02215</td>\n",
              "      <td>4</td>\n",
              "      <td>99.99</td>\n",
              "      <td>Boston (MA)</td>\n",
              "      <td>11</td>\n",
              "      <td>31</td>\n",
              "      <td>Bose SoundSport Headphones,Bose SoundSport Hea...</td>\n",
              "    </tr>\n",
              "  </tbody>\n",
              "</table>\n",
              "</div>"
            ],
            "text/plain": [
              "   Order ID  ...                                            Grouped\n",
              "3    176560  ...                      Google Phone,Wired Headphones\n",
              "4    176560  ...                      Google Phone,Wired Headphones\n",
              "18   176574  ...                  Google Phone,USB-C Charging Cable\n",
              "19   176574  ...                  Google Phone,USB-C Charging Cable\n",
              "30   176585  ...  Bose SoundSport Headphones,Bose SoundSport Hea...\n",
              "\n",
              "[5 rows x 12 columns]"
            ]
          },
          "metadata": {},
          "execution_count": 32
        }
      ]
    },
    {
      "cell_type": "markdown",
      "metadata": {
        "id": "vDvdEEuySe7S"
      },
      "source": [
        "Dropping the duplicated occurances"
      ]
    },
    {
      "cell_type": "code",
      "metadata": {
        "colab": {
          "base_uri": "https://localhost:8080/",
          "height": 206
        },
        "id": "y5lcUM6SNMSW",
        "outputId": "637477f7-adfa-4705-d6f8-de34b25623f2"
      },
      "source": [
        "dup = dup[['Order ID', 'Grouped']].drop_duplicates()\n",
        "dup.head()"
      ],
      "execution_count": null,
      "outputs": [
        {
          "output_type": "execute_result",
          "data": {
            "text/html": [
              "<div>\n",
              "<style scoped>\n",
              "    .dataframe tbody tr th:only-of-type {\n",
              "        vertical-align: middle;\n",
              "    }\n",
              "\n",
              "    .dataframe tbody tr th {\n",
              "        vertical-align: top;\n",
              "    }\n",
              "\n",
              "    .dataframe thead th {\n",
              "        text-align: right;\n",
              "    }\n",
              "</style>\n",
              "<table border=\"1\" class=\"dataframe\">\n",
              "  <thead>\n",
              "    <tr style=\"text-align: right;\">\n",
              "      <th></th>\n",
              "      <th>Order ID</th>\n",
              "      <th>Grouped</th>\n",
              "    </tr>\n",
              "  </thead>\n",
              "  <tbody>\n",
              "    <tr>\n",
              "      <th>3</th>\n",
              "      <td>176560</td>\n",
              "      <td>Google Phone,Wired Headphones</td>\n",
              "    </tr>\n",
              "    <tr>\n",
              "      <th>18</th>\n",
              "      <td>176574</td>\n",
              "      <td>Google Phone,USB-C Charging Cable</td>\n",
              "    </tr>\n",
              "    <tr>\n",
              "      <th>30</th>\n",
              "      <td>176585</td>\n",
              "      <td>Bose SoundSport Headphones,Bose SoundSport Hea...</td>\n",
              "    </tr>\n",
              "    <tr>\n",
              "      <th>32</th>\n",
              "      <td>176586</td>\n",
              "      <td>AAA Batteries (4-pack),Google Phone</td>\n",
              "    </tr>\n",
              "    <tr>\n",
              "      <th>119</th>\n",
              "      <td>176672</td>\n",
              "      <td>Lightning Charging Cable,USB-C Charging Cable</td>\n",
              "    </tr>\n",
              "  </tbody>\n",
              "</table>\n",
              "</div>"
            ],
            "text/plain": [
              "    Order ID                                            Grouped\n",
              "3     176560                      Google Phone,Wired Headphones\n",
              "18    176574                  Google Phone,USB-C Charging Cable\n",
              "30    176585  Bose SoundSport Headphones,Bose SoundSport Hea...\n",
              "32    176586                AAA Batteries (4-pack),Google Phone\n",
              "119   176672      Lightning Charging Cable,USB-C Charging Cable"
            ]
          },
          "metadata": {},
          "execution_count": 33
        }
      ]
    },
    {
      "cell_type": "markdown",
      "metadata": {
        "id": "ZHWNEvILTjfW"
      },
      "source": [
        "Counting the pairs the products brought together. For example here list of 3 products brought together."
      ]
    },
    {
      "cell_type": "code",
      "metadata": {
        "colab": {
          "base_uri": "https://localhost:8080/"
        },
        "id": "TiW3iotCS_QA",
        "outputId": "ff84dfd1-ac98-415a-cee7-39a945cde8b8"
      },
      "source": [
        "from itertools import combinations\n",
        "from collections import Counter\n",
        "\n",
        "count = Counter()\n",
        "\n",
        "for row in dup['Grouped']:\n",
        "  row_list = row.split(',')\n",
        "  count.update(Counter(combinations(row_list, 3)))\n",
        "\n",
        "for key, value in count.most_common(10):\n",
        "  print(key, value)"
      ],
      "execution_count": null,
      "outputs": [
        {
          "output_type": "stream",
          "name": "stdout",
          "text": [
            "('Google Phone', 'USB-C Charging Cable', 'Wired Headphones') 87\n",
            "('iPhone', 'Lightning Charging Cable', 'Wired Headphones') 62\n",
            "('iPhone', 'Lightning Charging Cable', 'Apple Airpods Headphones') 47\n",
            "('Google Phone', 'USB-C Charging Cable', 'Bose SoundSport Headphones') 35\n",
            "('Vareebadd Phone', 'USB-C Charging Cable', 'Wired Headphones') 33\n",
            "('iPhone', 'Apple Airpods Headphones', 'Wired Headphones') 27\n",
            "('Google Phone', 'Bose SoundSport Headphones', 'Wired Headphones') 24\n",
            "('Vareebadd Phone', 'USB-C Charging Cable', 'Bose SoundSport Headphones') 16\n",
            "('USB-C Charging Cable', 'Bose SoundSport Headphones', 'Wired Headphones') 5\n",
            "('Vareebadd Phone', 'Bose SoundSport Headphones', 'Wired Headphones') 5\n"
          ]
        }
      ]
    },
    {
      "cell_type": "markdown",
      "metadata": {
        "id": "6nV-V8eJbBRV"
      },
      "source": [
        "What product sold the most and why?"
      ]
    },
    {
      "cell_type": "code",
      "metadata": {
        "colab": {
          "base_uri": "https://localhost:8080/",
          "height": 279
        },
        "id": "x5pgo7iyZz49",
        "outputId": "9e00a863-5efb-4715-e3bb-8629e6510865"
      },
      "source": [
        "product_group = con_data.groupby('Product')\n",
        "quantity_ordered = product_group.sum()['Quantity Ordered']\n",
        "products = [product for product, df in product_group]\n",
        "plt.ylabel('Products')\n",
        "plt.xlabel('No. of orders')\n",
        "plt.barh(products, quantity_ordered)\n",
        "for index, value in enumerate(quantity_ordered):\n",
        "    plt.text(value, index, str(value))\n"
      ],
      "execution_count": null,
      "outputs": [
        {
          "output_type": "display_data",
          "data": {
            "image/png": "[encoded data removed]",
            "text/plain": [
              "<Figure size 432x288 with 1 Axes>"
            ]
          },
          "metadata": {
            "needs_background": "light"
          }
        }
      ]
    },
    {
      "cell_type": "markdown",
      "metadata": {
        "id": "obWkuA77ihTw"
      },
      "source": [
        "Overlaying another graph to compare the actual price of the product and no of products sold."
      ]
    },
    {
      "cell_type": "code",
      "metadata": {
        "colab": {
          "base_uri": "https://localhost:8080/"
        },
        "id": "xA9Yh6gAdt0N",
        "outputId": "65b8578f-ca31-4abc-e6a7-4b5a07fcf610"
      },
      "source": [
        "prices = con_data.groupby('Product').mean()['Price Each']\n",
        "print(prices)"
      ],
      "execution_count": null,
      "outputs": [
        {
          "output_type": "stream",
          "name": "stdout",
          "text": [
            "Product\n",
            "20in Monitor                   109.99\n",
            "27in 4K Gaming Monitor         389.99\n",
            "27in FHD Monitor               149.99\n",
            "34in Ultrawide Monitor         379.99\n",
            "AA Batteries (4-pack)            3.84\n",
            "AAA Batteries (4-pack)           2.99\n",
            "Apple Airpods Headphones       150.00\n",
            "Bose SoundSport Headphones      99.99\n",
            "Flatscreen TV                  300.00\n",
            "Google Phone                   600.00\n",
            "LG Dryer                       600.00\n",
            "LG Washing Machine             600.00\n",
            "Lightning Charging Cable        14.95\n",
            "Macbook Pro Laptop            1700.00\n",
            "ThinkPad Laptop                999.99\n",
            "USB-C Charging Cable            11.95\n",
            "Vareebadd Phone                400.00\n",
            "Wired Headphones                11.99\n",
            "iPhone                         700.00\n",
            "Name: Price Each, dtype: float64\n"
          ]
        }
      ]
    },
    {
      "cell_type": "markdown",
      "metadata": {
        "id": "kbMy-sgZkx6b"
      },
      "source": [
        "Adding a secondary Y-axis label to the chart to compare the no of products sold and price."
      ]
    },
    {
      "cell_type": "code",
      "metadata": {
        "colab": {
          "base_uri": "https://localhost:8080/",
          "height": 391
        },
        "id": "ZZFkHtWKkxZH",
        "outputId": "d3e0fd9d-4a26-4d3f-dd5c-e059967ce814"
      },
      "source": [
        "prices = con_data.groupby('Product').mean()['Price Each']\n",
        "\n",
        "fig, ax1 = plt.subplots()\n",
        "ax2 = ax1.twinx()\n",
        "ax1.bar(products, quantity_ordered)\n",
        "ax2.plot(products, prices, 'r-')\n",
        "\n",
        "ax1.set_xlabel('Product Name')\n",
        "ax1.set_ylabel('Quantity Ordered', color = 'g')\n",
        "ax2.set_ylabel('Price', color = 'R')\n",
        "ax1.set_xticklabels(products, rotation = 'vertical', size = 8)\n",
        "plt.show()"
      ],
      "execution_count": null,
      "outputs": [
        {
          "output_type": "display_data",
          "data": {
            "image/png": "[encoded data removed]",
            "text/plain": [
              "<Figure size 432x288 with 2 Axes>"
            ]
          },
          "metadata": {
            "needs_background": "light"
          }
        }
      ]
    },
    {
      "cell_type": "markdown",
      "metadata": {
        "id": "nTu7VWOVWtm7"
      },
      "source": [
        "From the graph it's very clear the produts with lesser price had maximum sales. Despite of high price Macbook pro had good sales."
      ]
    }
  ]
}